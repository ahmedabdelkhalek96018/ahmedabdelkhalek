{
  "nbformat": 4,
  "nbformat_minor": 0,
  "metadata": {
    "colab": {
      "name": "Untitled1.ipynb",
      "provenance": [],
      "collapsed_sections": []
    },
    "kernelspec": {
      "name": "python3",
      "display_name": "Python 3"
    },
    "language_info": {
      "name": "python"
    }
  },
  "cells": [
    {
      "cell_type": "markdown",
      "metadata": {
        "id": "_3ylKOkaAaYz"
      },
      "source": [
        "**1. Libraries Loading**"
      ]
    },
    {
      "cell_type": "code",
      "metadata": {
        "id": "mxltqvNZAW-n"
      },
      "source": [
        "import pandas as pd\n",
        "import numpy as np\n",
        "import requests\n",
        "import matplotlib.pyplot as plt\n",
        "%matplotlib inline\n",
        "import tweepy\n",
        "from tweepy import OAuthHandler\n",
        "import json\n",
        "from timeit import default_timer as timer"
      ],
      "execution_count": null,
      "outputs": []
    },
    {
      "cell_type": "markdown",
      "metadata": {
        "id": "8sDo1ZAdCVB5"
      },
      "source": [
        "**2. Gathering Data**"
      ]
    },
    {
      "cell_type": "markdown",
      "metadata": {
        "id": "lS0nouz8CqaG"
      },
      "source": [
        "#  1. Twitter Archive:"
      ]
    },
    {
      "cell_type": "code",
      "metadata": {
        "id": "4oL_NA9MAZjY"
      },
      "source": [
        "Archive = pd.read_csv('twitter-archive-enhanced.csv', encoding = 'utf-8')"
      ],
      "execution_count": null,
      "outputs": []
    },
    {
      "cell_type": "markdown",
      "metadata": {
        "id": "Ffdzp6fcDiXj"
      },
      "source": [
        "\n",
        "\n",
        "```\n",
        "# This is formatted as code\n",
        "```\n",
        "\n",
        "  2. Image Predictions:"
      ]
    },
    {
      "cell_type": "code",
      "metadata": {
        "id": "AIZHcyg8DrkW"
      },
      "source": [
        "URL = \"https://d17h27t6h515a5.cloudfront.net/topher/2017/August/599fd2ad_image-predictions/image-predictions.tsv\"\n",
        "response = requests.get(URL)\n",
        "\n",
        "with open('image-predictions.tsv', mode ='wb') as file:\n",
        "    file.write(response.content)"
      ],
      "execution_count": null,
      "outputs": []
    },
    {
      "cell_type": "markdown",
      "metadata": {
        "id": "IS4J4Rg_ECwH"
      },
      "source": [
        "*italicized text*  3. Twitter API:"
      ]
    },
    {
      "cell_type": "code",
      "metadata": {
        "id": "jX9zhgfRJm_d",
        "colab": {
          "base_uri": "https://localhost:8080/",
          "height": 231
        },
        "outputId": "e4d2dd5e-df1f-4713-cd0a-e97b8d3f3488"
      },
      "source": [
        "# Query Twitter API for each tweet in the Twitter archive and save JSON in a text file\n",
        "# These are hidden to comply with Twitter's API terms and conditions\n",
        "consumer_key = 'HIDDEN'\n",
        "consumer_secret = 'HIDDEN'\n",
        "access_token = 'HIDDEN'\n",
        "access_secret = 'HIDDEN'\n",
        "\n",
        "auth = OAuthHandler(consumer_key, consumer_secret)\n",
        "auth.set_access_token(access_token, access_secret)\n",
        "\n",
        "api = tweepy.API(auth, wait_on_rate_limit=True)\n",
        "\n",
        "# NOTE TO STUDENT WITH MOBILE VERIFICATION ISSUES:\n",
        "# API_list is a DataFrame with the twitter_archive_enhanced.csv file. You may have to\n",
        "# change line 17 to match the name of your DataFrame with twitter_archive_enhanced.csv\n",
        "# NOTE TO REVIEWER: this student had mobile verification issues so the following\n",
        "# Twitter API code was sent to this student from a Udacity instructor\n",
        "# Tweet IDs for which to gather additional data via Twitter's API\n",
        "tweet_ids = API_list.tweet_id.values\n",
        "len(tweet_ids)\n",
        "\n",
        "# Query Twitter's API for JSON data for each tweet ID in the Twitter archive\n",
        "count = 0\n",
        "fails_dict = {}\n",
        "start = timer()\n",
        "# Save each tweet's returned JSON as a new line in a .txt file\n",
        "with open('tweet_json.txt', 'w') as outfile:\n",
        "    # This loop will likely take 20-30 minutes to run because of Twitter's rate limit\n",
        "    for tweet_id in tweet_ids:\n",
        "        count += 1\n",
        "        print(str(count) + \": \" + str(tweet_id))\n",
        "        try:\n",
        "            tweet = api.get_status(tweet_id, tweet_mode='extended')\n",
        "            print(\"Success\")\n",
        "            json.dump(tweet._json, outfile)\n",
        "            outfile.write('\\n')\n",
        "        except tweepy.TweepError as e:\n",
        "            print(\"Fail\")\n",
        "            fails_dict[tweet_id] = e\n",
        "            pass\n",
        "end = timer()\n",
        "print(end - start)\n",
        "print(fails_dict)"
      ],
      "execution_count": null,
      "outputs": [
        {
          "output_type": "error",
          "ename": "NameError",
          "evalue": "ignored",
          "traceback": [
            "\u001b[0;31m---------------------------------------------------------------------------\u001b[0m",
            "\u001b[0;31mNameError\u001b[0m                                 Traceback (most recent call last)",
            "\u001b[0;32m<ipython-input-4-6efe8cc50497>\u001b[0m in \u001b[0;36m<module>\u001b[0;34m()\u001b[0m\n\u001b[1;32m     17\u001b[0m \u001b[0;31m# Twitter API code was sent to this student from a Udacity instructor\u001b[0m\u001b[0;34m\u001b[0m\u001b[0;34m\u001b[0m\u001b[0;34m\u001b[0m\u001b[0m\n\u001b[1;32m     18\u001b[0m \u001b[0;31m# Tweet IDs for which to gather additional data via Twitter's API\u001b[0m\u001b[0;34m\u001b[0m\u001b[0;34m\u001b[0m\u001b[0;34m\u001b[0m\u001b[0m\n\u001b[0;32m---> 19\u001b[0;31m \u001b[0mtweet_ids\u001b[0m \u001b[0;34m=\u001b[0m \u001b[0mAPI_list\u001b[0m\u001b[0;34m.\u001b[0m\u001b[0mtweet_id\u001b[0m\u001b[0;34m.\u001b[0m\u001b[0mvalues\u001b[0m\u001b[0;34m\u001b[0m\u001b[0;34m\u001b[0m\u001b[0m\n\u001b[0m\u001b[1;32m     20\u001b[0m \u001b[0mlen\u001b[0m\u001b[0;34m(\u001b[0m\u001b[0mtweet_ids\u001b[0m\u001b[0;34m)\u001b[0m\u001b[0;34m\u001b[0m\u001b[0;34m\u001b[0m\u001b[0m\n\u001b[1;32m     21\u001b[0m \u001b[0;34m\u001b[0m\u001b[0m\n",
            "\u001b[0;31mNameError\u001b[0m: name 'API_list' is not defined"
          ]
        }
      ]
    },
    {
      "cell_type": "code",
      "metadata": {
        "colab": {
          "base_uri": "https://localhost:8080/"
        },
        "id": "BCiH5gMpKrWY",
        "outputId": "af07ea34-009f-497e-d09d-66f2517cc188"
      },
      "source": [
        "df_TwitterAPI=[]\n",
        "\n",
        "with open(\"tweet_json.txt\") as file:\n",
        "    for line in file:\n",
        "      df_TwitterAPI.append(json.loads(line))\n",
        "\n",
        "print(df_TwitterAPI[0])"
      ],
      "execution_count": null,
      "outputs": [
        {
          "output_type": "stream",
          "text": [
            "{'created_at': 'Tue Aug 01 16:23:56 +0000 2017', 'id': 892420643555336193, 'id_str': '892420643555336193', 'full_text': \"This is Phineas. He's a mystical boy. Only ever appears in the hole of a donut. 13/10 https://t.co/MgUWQ76dJU\", 'truncated': False, 'display_text_range': [0, 85], 'entities': {'hashtags': [], 'symbols': [], 'user_mentions': [], 'urls': [], 'media': [{'id': 892420639486877696, 'id_str': '892420639486877696', 'indices': [86, 109], 'media_url': 'http://pbs.twimg.com/media/DGKD1-bXoAAIAUK.jpg', 'media_url_https': 'https://pbs.twimg.com/media/DGKD1-bXoAAIAUK.jpg', 'url': 'https://t.co/MgUWQ76dJU', 'display_url': 'pic.twitter.com/MgUWQ76dJU', 'expanded_url': 'https://twitter.com/dog_rates/status/892420643555336193/photo/1', 'type': 'photo', 'sizes': {'thumb': {'w': 150, 'h': 150, 'resize': 'crop'}, 'medium': {'w': 540, 'h': 528, 'resize': 'fit'}, 'small': {'w': 540, 'h': 528, 'resize': 'fit'}, 'large': {'w': 540, 'h': 528, 'resize': 'fit'}}}]}, 'extended_entities': {'media': [{'id': 892420639486877696, 'id_str': '892420639486877696', 'indices': [86, 109], 'media_url': 'http://pbs.twimg.com/media/DGKD1-bXoAAIAUK.jpg', 'media_url_https': 'https://pbs.twimg.com/media/DGKD1-bXoAAIAUK.jpg', 'url': 'https://t.co/MgUWQ76dJU', 'display_url': 'pic.twitter.com/MgUWQ76dJU', 'expanded_url': 'https://twitter.com/dog_rates/status/892420643555336193/photo/1', 'type': 'photo', 'sizes': {'thumb': {'w': 150, 'h': 150, 'resize': 'crop'}, 'medium': {'w': 540, 'h': 528, 'resize': 'fit'}, 'small': {'w': 540, 'h': 528, 'resize': 'fit'}, 'large': {'w': 540, 'h': 528, 'resize': 'fit'}}}]}, 'source': '<a href=\"http://twitter.com/download/iphone\" rel=\"nofollow\">Twitter for iPhone</a>', 'in_reply_to_status_id': None, 'in_reply_to_status_id_str': None, 'in_reply_to_user_id': None, 'in_reply_to_user_id_str': None, 'in_reply_to_screen_name': None, 'user': {'id': 4196983835, 'id_str': '4196983835', 'name': 'WeRateDogs™', 'screen_name': 'dog_rates', 'location': 'merch  ⇨', 'description': 'Your Only Source For Professional Dog Ratings ⠀ ⠀IG, FB, Snapchat ⇨ WeRateDogs ⠀⠀⠀⠀⠀⠀⠀⠀⠀⠀⠀⠀ Business: dogratingtwitter@gmail.com', 'url': 'https://t.co/N7sNNHAEXS', 'entities': {'url': {'urls': [{'url': 'https://t.co/N7sNNHAEXS', 'expanded_url': 'http://weratedogs.com', 'display_url': 'weratedogs.com', 'indices': [0, 23]}]}, 'description': {'urls': []}}, 'protected': False, 'followers_count': 7556202, 'friends_count': 12, 'listed_count': 5642, 'created_at': 'Sun Nov 15 21:41:29 +0000 2015', 'favourites_count': 140669, 'utc_offset': None, 'time_zone': None, 'geo_enabled': True, 'verified': True, 'statuses_count': 9478, 'lang': 'en', 'contributors_enabled': False, 'is_translator': False, 'is_translation_enabled': False, 'profile_background_color': '000000', 'profile_background_image_url': 'http://abs.twimg.com/images/themes/theme1/bg.png', 'profile_background_image_url_https': 'https://abs.twimg.com/images/themes/theme1/bg.png', 'profile_background_tile': False, 'profile_image_url': 'http://pbs.twimg.com/profile_images/1072659905235042304/nm3HWlPG_normal.jpg', 'profile_image_url_https': 'https://pbs.twimg.com/profile_images/1072659905235042304/nm3HWlPG_normal.jpg', 'profile_banner_url': 'https://pbs.twimg.com/profile_banners/4196983835/1544368760', 'profile_link_color': 'F5ABB5', 'profile_sidebar_border_color': '000000', 'profile_sidebar_fill_color': '000000', 'profile_text_color': '000000', 'profile_use_background_image': False, 'has_extended_profile': False, 'default_profile': False, 'default_profile_image': False, 'following': False, 'follow_request_sent': False, 'notifications': False, 'translator_type': 'none'}, 'geo': None, 'coordinates': None, 'place': None, 'contributors': None, 'is_quote_status': False, 'retweet_count': 8330, 'favorite_count': 38089, 'favorited': False, 'retweeted': False, 'possibly_sensitive': False, 'possibly_sensitive_appealable': False, 'lang': 'en'}\n"
          ],
          "name": "stdout"
        }
      ]
    },
    {
      "cell_type": "code",
      "metadata": {
        "colab": {
          "base_uri": "https://localhost:8080/",
          "height": 204
        },
        "id": "_dfwHzpCkf4K",
        "outputId": "ec52e2d1-fcd2-4da4-ad7a-63437e06b77b"
      },
      "source": [
        "TweetData=pd.DataFrame(df_TwitterAPI,columns=['id',\n",
        "                                             'favorite_count',\n",
        "                                             'retweet_count'])\n",
        "TweetData.head()"
      ],
      "execution_count": null,
      "outputs": [
        {
          "output_type": "execute_result",
          "data": {
            "text/html": [
              "<div>\n",
              "<style scoped>\n",
              "    .dataframe tbody tr th:only-of-type {\n",
              "        vertical-align: middle;\n",
              "    }\n",
              "\n",
              "    .dataframe tbody tr th {\n",
              "        vertical-align: top;\n",
              "    }\n",
              "\n",
              "    .dataframe thead th {\n",
              "        text-align: right;\n",
              "    }\n",
              "</style>\n",
              "<table border=\"1\" class=\"dataframe\">\n",
              "  <thead>\n",
              "    <tr style=\"text-align: right;\">\n",
              "      <th></th>\n",
              "      <th>id</th>\n",
              "      <th>favorite_count</th>\n",
              "      <th>retweet_count</th>\n",
              "    </tr>\n",
              "  </thead>\n",
              "  <tbody>\n",
              "    <tr>\n",
              "      <th>0</th>\n",
              "      <td>892420643555336193</td>\n",
              "      <td>38089</td>\n",
              "      <td>8330</td>\n",
              "    </tr>\n",
              "    <tr>\n",
              "      <th>1</th>\n",
              "      <td>892177421306343426</td>\n",
              "      <td>32679</td>\n",
              "      <td>6154</td>\n",
              "    </tr>\n",
              "    <tr>\n",
              "      <th>2</th>\n",
              "      <td>891815181378084864</td>\n",
              "      <td>24595</td>\n",
              "      <td>4073</td>\n",
              "    </tr>\n",
              "    <tr>\n",
              "      <th>3</th>\n",
              "      <td>891689557279858688</td>\n",
              "      <td>41449</td>\n",
              "      <td>8474</td>\n",
              "    </tr>\n",
              "    <tr>\n",
              "      <th>4</th>\n",
              "      <td>891327558926688256</td>\n",
              "      <td>39623</td>\n",
              "      <td>9167</td>\n",
              "    </tr>\n",
              "  </tbody>\n",
              "</table>\n",
              "</div>"
            ],
            "text/plain": [
              "                   id  favorite_count  retweet_count\n",
              "0  892420643555336193           38089           8330\n",
              "1  892177421306343426           32679           6154\n",
              "2  891815181378084864           24595           4073\n",
              "3  891689557279858688           41449           8474\n",
              "4  891327558926688256           39623           9167"
            ]
          },
          "metadata": {
            "tags": []
          },
          "execution_count": 56
        }
      ]
    },
    {
      "cell_type": "code",
      "metadata": {
        "colab": {
          "base_uri": "https://localhost:8080/",
          "height": 204
        },
        "id": "3C-GMK1BmbcF",
        "outputId": "7d8cb7c5-acf4-4d6d-e068-7d45846f39b5"
      },
      "source": [
        "TweetData=TweetData.rename(columns={'id':'tweet_id'})\n",
        "TweetData.head()"
      ],
      "execution_count": null,
      "outputs": [
        {
          "output_type": "execute_result",
          "data": {
            "text/html": [
              "<div>\n",
              "<style scoped>\n",
              "    .dataframe tbody tr th:only-of-type {\n",
              "        vertical-align: middle;\n",
              "    }\n",
              "\n",
              "    .dataframe tbody tr th {\n",
              "        vertical-align: top;\n",
              "    }\n",
              "\n",
              "    .dataframe thead th {\n",
              "        text-align: right;\n",
              "    }\n",
              "</style>\n",
              "<table border=\"1\" class=\"dataframe\">\n",
              "  <thead>\n",
              "    <tr style=\"text-align: right;\">\n",
              "      <th></th>\n",
              "      <th>tweet_id</th>\n",
              "      <th>favorite_count</th>\n",
              "      <th>retweet_count</th>\n",
              "    </tr>\n",
              "  </thead>\n",
              "  <tbody>\n",
              "    <tr>\n",
              "      <th>0</th>\n",
              "      <td>892420643555336193</td>\n",
              "      <td>38089</td>\n",
              "      <td>8330</td>\n",
              "    </tr>\n",
              "    <tr>\n",
              "      <th>1</th>\n",
              "      <td>892177421306343426</td>\n",
              "      <td>32679</td>\n",
              "      <td>6154</td>\n",
              "    </tr>\n",
              "    <tr>\n",
              "      <th>2</th>\n",
              "      <td>891815181378084864</td>\n",
              "      <td>24595</td>\n",
              "      <td>4073</td>\n",
              "    </tr>\n",
              "    <tr>\n",
              "      <th>3</th>\n",
              "      <td>891689557279858688</td>\n",
              "      <td>41449</td>\n",
              "      <td>8474</td>\n",
              "    </tr>\n",
              "    <tr>\n",
              "      <th>4</th>\n",
              "      <td>891327558926688256</td>\n",
              "      <td>39623</td>\n",
              "      <td>9167</td>\n",
              "    </tr>\n",
              "  </tbody>\n",
              "</table>\n",
              "</div>"
            ],
            "text/plain": [
              "             tweet_id  favorite_count  retweet_count\n",
              "0  892420643555336193           38089           8330\n",
              "1  892177421306343426           32679           6154\n",
              "2  891815181378084864           24595           4073\n",
              "3  891689557279858688           41449           8474\n",
              "4  891327558926688256           39623           9167"
            ]
          },
          "metadata": {
            "tags": []
          },
          "execution_count": 57
        }
      ]
    },
    {
      "cell_type": "code",
      "metadata": {
        "id": "yfqHSiVum_yR"
      },
      "source": [
        "# save Dataframe to csv file\n",
        "TweetData.to_csv('TweetData..csv',index=False)"
      ],
      "execution_count": null,
      "outputs": []
    },
    {
      "cell_type": "code",
      "metadata": {
        "colab": {
          "base_uri": "https://localhost:8080/",
          "height": 204
        },
        "id": "ZpvyWGvInt-e",
        "outputId": "2998715e-6f73-4a27-fec7-7bcdc21f394d"
      },
      "source": [
        "#check saving:\n",
        "savedfile=pd.read_csv('TweetData..csv')\n",
        "savedfile.head()"
      ],
      "execution_count": null,
      "outputs": [
        {
          "output_type": "execute_result",
          "data": {
            "text/html": [
              "<div>\n",
              "<style scoped>\n",
              "    .dataframe tbody tr th:only-of-type {\n",
              "        vertical-align: middle;\n",
              "    }\n",
              "\n",
              "    .dataframe tbody tr th {\n",
              "        vertical-align: top;\n",
              "    }\n",
              "\n",
              "    .dataframe thead th {\n",
              "        text-align: right;\n",
              "    }\n",
              "</style>\n",
              "<table border=\"1\" class=\"dataframe\">\n",
              "  <thead>\n",
              "    <tr style=\"text-align: right;\">\n",
              "      <th></th>\n",
              "      <th>tweet_id</th>\n",
              "      <th>favorite_count</th>\n",
              "      <th>retweet_count</th>\n",
              "    </tr>\n",
              "  </thead>\n",
              "  <tbody>\n",
              "    <tr>\n",
              "      <th>0</th>\n",
              "      <td>892420643555336193</td>\n",
              "      <td>38089</td>\n",
              "      <td>8330</td>\n",
              "    </tr>\n",
              "    <tr>\n",
              "      <th>1</th>\n",
              "      <td>892177421306343426</td>\n",
              "      <td>32679</td>\n",
              "      <td>6154</td>\n",
              "    </tr>\n",
              "    <tr>\n",
              "      <th>2</th>\n",
              "      <td>891815181378084864</td>\n",
              "      <td>24595</td>\n",
              "      <td>4073</td>\n",
              "    </tr>\n",
              "    <tr>\n",
              "      <th>3</th>\n",
              "      <td>891689557279858688</td>\n",
              "      <td>41449</td>\n",
              "      <td>8474</td>\n",
              "    </tr>\n",
              "    <tr>\n",
              "      <th>4</th>\n",
              "      <td>891327558926688256</td>\n",
              "      <td>39623</td>\n",
              "      <td>9167</td>\n",
              "    </tr>\n",
              "  </tbody>\n",
              "</table>\n",
              "</div>"
            ],
            "text/plain": [
              "             tweet_id  favorite_count  retweet_count\n",
              "0  892420643555336193           38089           8330\n",
              "1  892177421306343426           32679           6154\n",
              "2  891815181378084864           24595           4073\n",
              "3  891689557279858688           41449           8474\n",
              "4  891327558926688256           39623           9167"
            ]
          },
          "metadata": {
            "tags": []
          },
          "execution_count": 59
        }
      ]
    },
    {
      "cell_type": "markdown",
      "metadata": {
        "id": "75MxPZ3KoJmz"
      },
      "source": [
        "**3. Assessing Data**"
      ]
    },
    {
      "cell_type": "markdown",
      "metadata": {
        "id": "tNtnG3rRpiCV"
      },
      "source": [
        "Before cleaning, it is essential to assess data to inspect what to clean. In this process, two issues are concerned:\n",
        "- data quality issue\n",
        "- data tidiness issue\n",
        "\n",
        "The assessment can be done **visually** and **programatically**."
      ]
    },
    {
      "cell_type": "markdown",
      "metadata": {
        "id": "AxPXJa0oAbmj"
      },
      "source": [
        "  **First:** Assessing Data Archive:"
      ]
    },
    {
      "cell_type": "code",
      "metadata": {
        "colab": {
          "base_uri": "https://localhost:8080/",
          "height": 581
        },
        "id": "KwzSZKYOoTTN",
        "outputId": "7bae63ae-7715-48c3-80d8-97adb31b891f"
      },
      "source": [
        "Archive.head()"
      ],
      "execution_count": null,
      "outputs": [
        {
          "output_type": "execute_result",
          "data": {
            "text/html": [
              "<div>\n",
              "<style scoped>\n",
              "    .dataframe tbody tr th:only-of-type {\n",
              "        vertical-align: middle;\n",
              "    }\n",
              "\n",
              "    .dataframe tbody tr th {\n",
              "        vertical-align: top;\n",
              "    }\n",
              "\n",
              "    .dataframe thead th {\n",
              "        text-align: right;\n",
              "    }\n",
              "</style>\n",
              "<table border=\"1\" class=\"dataframe\">\n",
              "  <thead>\n",
              "    <tr style=\"text-align: right;\">\n",
              "      <th></th>\n",
              "      <th>tweet_id</th>\n",
              "      <th>in_reply_to_status_id</th>\n",
              "      <th>in_reply_to_user_id</th>\n",
              "      <th>timestamp</th>\n",
              "      <th>source</th>\n",
              "      <th>text</th>\n",
              "      <th>retweeted_status_id</th>\n",
              "      <th>retweeted_status_user_id</th>\n",
              "      <th>retweeted_status_timestamp</th>\n",
              "      <th>expanded_urls</th>\n",
              "      <th>rating_numerator</th>\n",
              "      <th>rating_denominator</th>\n",
              "      <th>name</th>\n",
              "      <th>doggo</th>\n",
              "      <th>floofer</th>\n",
              "      <th>pupper</th>\n",
              "      <th>puppo</th>\n",
              "    </tr>\n",
              "  </thead>\n",
              "  <tbody>\n",
              "    <tr>\n",
              "      <th>0</th>\n",
              "      <td>892420643555336193</td>\n",
              "      <td>NaN</td>\n",
              "      <td>NaN</td>\n",
              "      <td>2017-08-01 16:23:56 +0000</td>\n",
              "      <td>&lt;a href=\"http://twitter.com/download/iphone\" r...</td>\n",
              "      <td>This is Phineas. He's a mystical boy. Only eve...</td>\n",
              "      <td>NaN</td>\n",
              "      <td>NaN</td>\n",
              "      <td>NaN</td>\n",
              "      <td>https://twitter.com/dog_rates/status/892420643...</td>\n",
              "      <td>13</td>\n",
              "      <td>10</td>\n",
              "      <td>Phineas</td>\n",
              "      <td>None</td>\n",
              "      <td>None</td>\n",
              "      <td>None</td>\n",
              "      <td>None</td>\n",
              "    </tr>\n",
              "    <tr>\n",
              "      <th>1</th>\n",
              "      <td>892177421306343426</td>\n",
              "      <td>NaN</td>\n",
              "      <td>NaN</td>\n",
              "      <td>2017-08-01 00:17:27 +0000</td>\n",
              "      <td>&lt;a href=\"http://twitter.com/download/iphone\" r...</td>\n",
              "      <td>This is Tilly. She's just checking pup on you....</td>\n",
              "      <td>NaN</td>\n",
              "      <td>NaN</td>\n",
              "      <td>NaN</td>\n",
              "      <td>https://twitter.com/dog_rates/status/892177421...</td>\n",
              "      <td>13</td>\n",
              "      <td>10</td>\n",
              "      <td>Tilly</td>\n",
              "      <td>None</td>\n",
              "      <td>None</td>\n",
              "      <td>None</td>\n",
              "      <td>None</td>\n",
              "    </tr>\n",
              "    <tr>\n",
              "      <th>2</th>\n",
              "      <td>891815181378084864</td>\n",
              "      <td>NaN</td>\n",
              "      <td>NaN</td>\n",
              "      <td>2017-07-31 00:18:03 +0000</td>\n",
              "      <td>&lt;a href=\"http://twitter.com/download/iphone\" r...</td>\n",
              "      <td>This is Archie. He is a rare Norwegian Pouncin...</td>\n",
              "      <td>NaN</td>\n",
              "      <td>NaN</td>\n",
              "      <td>NaN</td>\n",
              "      <td>https://twitter.com/dog_rates/status/891815181...</td>\n",
              "      <td>12</td>\n",
              "      <td>10</td>\n",
              "      <td>Archie</td>\n",
              "      <td>None</td>\n",
              "      <td>None</td>\n",
              "      <td>None</td>\n",
              "      <td>None</td>\n",
              "    </tr>\n",
              "    <tr>\n",
              "      <th>3</th>\n",
              "      <td>891689557279858688</td>\n",
              "      <td>NaN</td>\n",
              "      <td>NaN</td>\n",
              "      <td>2017-07-30 15:58:51 +0000</td>\n",
              "      <td>&lt;a href=\"http://twitter.com/download/iphone\" r...</td>\n",
              "      <td>This is Darla. She commenced a snooze mid meal...</td>\n",
              "      <td>NaN</td>\n",
              "      <td>NaN</td>\n",
              "      <td>NaN</td>\n",
              "      <td>https://twitter.com/dog_rates/status/891689557...</td>\n",
              "      <td>13</td>\n",
              "      <td>10</td>\n",
              "      <td>Darla</td>\n",
              "      <td>None</td>\n",
              "      <td>None</td>\n",
              "      <td>None</td>\n",
              "      <td>None</td>\n",
              "    </tr>\n",
              "    <tr>\n",
              "      <th>4</th>\n",
              "      <td>891327558926688256</td>\n",
              "      <td>NaN</td>\n",
              "      <td>NaN</td>\n",
              "      <td>2017-07-29 16:00:24 +0000</td>\n",
              "      <td>&lt;a href=\"http://twitter.com/download/iphone\" r...</td>\n",
              "      <td>This is Franklin. He would like you to stop ca...</td>\n",
              "      <td>NaN</td>\n",
              "      <td>NaN</td>\n",
              "      <td>NaN</td>\n",
              "      <td>https://twitter.com/dog_rates/status/891327558...</td>\n",
              "      <td>12</td>\n",
              "      <td>10</td>\n",
              "      <td>Franklin</td>\n",
              "      <td>None</td>\n",
              "      <td>None</td>\n",
              "      <td>None</td>\n",
              "      <td>None</td>\n",
              "    </tr>\n",
              "  </tbody>\n",
              "</table>\n",
              "</div>"
            ],
            "text/plain": [
              "             tweet_id  in_reply_to_status_id  ...  pupper puppo\n",
              "0  892420643555336193                    NaN  ...    None  None\n",
              "1  892177421306343426                    NaN  ...    None  None\n",
              "2  891815181378084864                    NaN  ...    None  None\n",
              "3  891689557279858688                    NaN  ...    None  None\n",
              "4  891327558926688256                    NaN  ...    None  None\n",
              "\n",
              "[5 rows x 17 columns]"
            ]
          },
          "metadata": {
            "tags": []
          },
          "execution_count": 15
        }
      ]
    },
    {
      "cell_type": "code",
      "metadata": {
        "colab": {
          "base_uri": "https://localhost:8080/",
          "height": 1000
        },
        "id": "PHA8dv5gqDqr",
        "outputId": "63b49743-a4eb-4321-d08b-48361e9af062"
      },
      "source": [
        "Archive.sample(20)"
      ],
      "execution_count": null,
      "outputs": [
        {
          "output_type": "execute_result",
          "data": {
            "text/html": [
              "<div>\n",
              "<style scoped>\n",
              "    .dataframe tbody tr th:only-of-type {\n",
              "        vertical-align: middle;\n",
              "    }\n",
              "\n",
              "    .dataframe tbody tr th {\n",
              "        vertical-align: top;\n",
              "    }\n",
              "\n",
              "    .dataframe thead th {\n",
              "        text-align: right;\n",
              "    }\n",
              "</style>\n",
              "<table border=\"1\" class=\"dataframe\">\n",
              "  <thead>\n",
              "    <tr style=\"text-align: right;\">\n",
              "      <th></th>\n",
              "      <th>tweet_id</th>\n",
              "      <th>in_reply_to_status_id</th>\n",
              "      <th>in_reply_to_user_id</th>\n",
              "      <th>timestamp</th>\n",
              "      <th>source</th>\n",
              "      <th>text</th>\n",
              "      <th>retweeted_status_id</th>\n",
              "      <th>retweeted_status_user_id</th>\n",
              "      <th>retweeted_status_timestamp</th>\n",
              "      <th>expanded_urls</th>\n",
              "      <th>rating_numerator</th>\n",
              "      <th>rating_denominator</th>\n",
              "      <th>name</th>\n",
              "      <th>doggo</th>\n",
              "      <th>floofer</th>\n",
              "      <th>pupper</th>\n",
              "      <th>puppo</th>\n",
              "    </tr>\n",
              "  </thead>\n",
              "  <tbody>\n",
              "    <tr>\n",
              "      <th>1137</th>\n",
              "      <td>728046963732717569</td>\n",
              "      <td>NaN</td>\n",
              "      <td>NaN</td>\n",
              "      <td>2016-05-05 02:21:37 +0000</td>\n",
              "      <td>&lt;a href=\"http://twitter.com/download/iphone\" r...</td>\n",
              "      <td>This is Raymond. He controls fountains with hi...</td>\n",
              "      <td>NaN</td>\n",
              "      <td>NaN</td>\n",
              "      <td>NaN</td>\n",
              "      <td>https://twitter.com/dog_rates/status/728046963...</td>\n",
              "      <td>11</td>\n",
              "      <td>10</td>\n",
              "      <td>Raymond</td>\n",
              "      <td>None</td>\n",
              "      <td>None</td>\n",
              "      <td>None</td>\n",
              "      <td>None</td>\n",
              "    </tr>\n",
              "    <tr>\n",
              "      <th>624</th>\n",
              "      <td>795464331001561088</td>\n",
              "      <td>NaN</td>\n",
              "      <td>NaN</td>\n",
              "      <td>2016-11-07 03:14:10 +0000</td>\n",
              "      <td>&lt;a href=\"http://twitter.com/download/iphone\" r...</td>\n",
              "      <td>Elder doggo does a splash. Both 13/10 incredib...</td>\n",
              "      <td>NaN</td>\n",
              "      <td>NaN</td>\n",
              "      <td>NaN</td>\n",
              "      <td>https://twitter.com/dog_rates/status/795464331...</td>\n",
              "      <td>13</td>\n",
              "      <td>10</td>\n",
              "      <td>None</td>\n",
              "      <td>doggo</td>\n",
              "      <td>None</td>\n",
              "      <td>None</td>\n",
              "      <td>None</td>\n",
              "    </tr>\n",
              "    <tr>\n",
              "      <th>665</th>\n",
              "      <td>790698755171364864</td>\n",
              "      <td>NaN</td>\n",
              "      <td>NaN</td>\n",
              "      <td>2016-10-24 23:37:28 +0000</td>\n",
              "      <td>&lt;a href=\"http://twitter.com/download/iphone\" r...</td>\n",
              "      <td>This is Mosby. He appears to be rather h*ckin ...</td>\n",
              "      <td>NaN</td>\n",
              "      <td>NaN</td>\n",
              "      <td>NaN</td>\n",
              "      <td>https://twitter.com/dog_rates/status/790698755...</td>\n",
              "      <td>12</td>\n",
              "      <td>10</td>\n",
              "      <td>Mosby</td>\n",
              "      <td>None</td>\n",
              "      <td>None</td>\n",
              "      <td>None</td>\n",
              "      <td>None</td>\n",
              "    </tr>\n",
              "    <tr>\n",
              "      <th>1107</th>\n",
              "      <td>734776360183431168</td>\n",
              "      <td>NaN</td>\n",
              "      <td>NaN</td>\n",
              "      <td>2016-05-23 16:01:50 +0000</td>\n",
              "      <td>&lt;a href=\"http://twitter.com/download/iphone\" r...</td>\n",
              "      <td>This is Livvie. Someone should tell her it's b...</td>\n",
              "      <td>NaN</td>\n",
              "      <td>NaN</td>\n",
              "      <td>NaN</td>\n",
              "      <td>https://twitter.com/dog_rates/status/734776360...</td>\n",
              "      <td>11</td>\n",
              "      <td>10</td>\n",
              "      <td>Livvie</td>\n",
              "      <td>None</td>\n",
              "      <td>None</td>\n",
              "      <td>None</td>\n",
              "      <td>None</td>\n",
              "    </tr>\n",
              "    <tr>\n",
              "      <th>72</th>\n",
              "      <td>878604707211726852</td>\n",
              "      <td>NaN</td>\n",
              "      <td>NaN</td>\n",
              "      <td>2017-06-24 13:24:20 +0000</td>\n",
              "      <td>&lt;a href=\"http://twitter.com/download/iphone\" r...</td>\n",
              "      <td>Martha is stunning how h*ckin dare you. 13/10 ...</td>\n",
              "      <td>NaN</td>\n",
              "      <td>NaN</td>\n",
              "      <td>NaN</td>\n",
              "      <td>https://twitter.com/bbcworld/status/8785998685...</td>\n",
              "      <td>13</td>\n",
              "      <td>10</td>\n",
              "      <td>None</td>\n",
              "      <td>None</td>\n",
              "      <td>None</td>\n",
              "      <td>None</td>\n",
              "      <td>None</td>\n",
              "    </tr>\n",
              "    <tr>\n",
              "      <th>1636</th>\n",
              "      <td>684200372118904832</td>\n",
              "      <td>NaN</td>\n",
              "      <td>NaN</td>\n",
              "      <td>2016-01-05 02:30:55 +0000</td>\n",
              "      <td>&lt;a href=\"http://twitter.com/download/iphone\" r...</td>\n",
              "      <td>Gang of fearless hoofed puppers here. Straight...</td>\n",
              "      <td>NaN</td>\n",
              "      <td>NaN</td>\n",
              "      <td>NaN</td>\n",
              "      <td>https://twitter.com/dog_rates/status/684200372...</td>\n",
              "      <td>6</td>\n",
              "      <td>10</td>\n",
              "      <td>None</td>\n",
              "      <td>None</td>\n",
              "      <td>None</td>\n",
              "      <td>None</td>\n",
              "      <td>None</td>\n",
              "    </tr>\n",
              "    <tr>\n",
              "      <th>492</th>\n",
              "      <td>813217897535406080</td>\n",
              "      <td>NaN</td>\n",
              "      <td>NaN</td>\n",
              "      <td>2016-12-26 03:00:30 +0000</td>\n",
              "      <td>&lt;a href=\"http://twitter.com/download/iphone\" r...</td>\n",
              "      <td>Here is Atlas. He went all out this year. 13/1...</td>\n",
              "      <td>NaN</td>\n",
              "      <td>NaN</td>\n",
              "      <td>NaN</td>\n",
              "      <td>https://twitter.com/dog_rates/status/813217897...</td>\n",
              "      <td>13</td>\n",
              "      <td>10</td>\n",
              "      <td>Atlas</td>\n",
              "      <td>None</td>\n",
              "      <td>None</td>\n",
              "      <td>None</td>\n",
              "      <td>None</td>\n",
              "    </tr>\n",
              "    <tr>\n",
              "      <th>672</th>\n",
              "      <td>789903600034189313</td>\n",
              "      <td>NaN</td>\n",
              "      <td>NaN</td>\n",
              "      <td>2016-10-22 18:57:48 +0000</td>\n",
              "      <td>&lt;a href=\"http://vine.co\" rel=\"nofollow\"&gt;Vine -...</td>\n",
              "      <td>This is Ralphy. His dreams were just shattered...</td>\n",
              "      <td>NaN</td>\n",
              "      <td>NaN</td>\n",
              "      <td>NaN</td>\n",
              "      <td>https://vine.co/v/5wPT1aBxPQZ</td>\n",
              "      <td>13</td>\n",
              "      <td>10</td>\n",
              "      <td>Ralphy</td>\n",
              "      <td>None</td>\n",
              "      <td>None</td>\n",
              "      <td>pupper</td>\n",
              "      <td>None</td>\n",
              "    </tr>\n",
              "    <tr>\n",
              "      <th>589</th>\n",
              "      <td>799308762079035393</td>\n",
              "      <td>NaN</td>\n",
              "      <td>NaN</td>\n",
              "      <td>2016-11-17 17:50:33 +0000</td>\n",
              "      <td>&lt;a href=\"http://twitter.com/download/iphone\" r...</td>\n",
              "      <td>RT @dog_rates: I WAS SENT THE ACTUAL DOG IN TH...</td>\n",
              "      <td>7.743144e+17</td>\n",
              "      <td>4.196984e+09</td>\n",
              "      <td>2016-09-09 18:31:54 +0000</td>\n",
              "      <td>https://twitter.com/dog_rates/status/774314403...</td>\n",
              "      <td>14</td>\n",
              "      <td>10</td>\n",
              "      <td>None</td>\n",
              "      <td>None</td>\n",
              "      <td>None</td>\n",
              "      <td>None</td>\n",
              "      <td>None</td>\n",
              "    </tr>\n",
              "    <tr>\n",
              "      <th>384</th>\n",
              "      <td>826958653328592898</td>\n",
              "      <td>NaN</td>\n",
              "      <td>NaN</td>\n",
              "      <td>2017-02-02 01:01:21 +0000</td>\n",
              "      <td>&lt;a href=\"http://twitter.com/download/iphone\" r...</td>\n",
              "      <td>This is Loki. He smiles like Elvis. Ain't noth...</td>\n",
              "      <td>NaN</td>\n",
              "      <td>NaN</td>\n",
              "      <td>NaN</td>\n",
              "      <td>https://twitter.com/dog_rates/status/826958653...</td>\n",
              "      <td>12</td>\n",
              "      <td>10</td>\n",
              "      <td>Loki</td>\n",
              "      <td>doggo</td>\n",
              "      <td>None</td>\n",
              "      <td>None</td>\n",
              "      <td>None</td>\n",
              "    </tr>\n",
              "    <tr>\n",
              "      <th>2354</th>\n",
              "      <td>666029285002620928</td>\n",
              "      <td>NaN</td>\n",
              "      <td>NaN</td>\n",
              "      <td>2015-11-15 23:05:30 +0000</td>\n",
              "      <td>&lt;a href=\"http://twitter.com/download/iphone\" r...</td>\n",
              "      <td>This is a western brown Mitsubishi terrier. Up...</td>\n",
              "      <td>NaN</td>\n",
              "      <td>NaN</td>\n",
              "      <td>NaN</td>\n",
              "      <td>https://twitter.com/dog_rates/status/666029285...</td>\n",
              "      <td>7</td>\n",
              "      <td>10</td>\n",
              "      <td>a</td>\n",
              "      <td>None</td>\n",
              "      <td>None</td>\n",
              "      <td>None</td>\n",
              "      <td>None</td>\n",
              "    </tr>\n",
              "    <tr>\n",
              "      <th>1810</th>\n",
              "      <td>676821958043033607</td>\n",
              "      <td>NaN</td>\n",
              "      <td>NaN</td>\n",
              "      <td>2015-12-15 17:51:44 +0000</td>\n",
              "      <td>&lt;a href=\"http://twitter.com/download/iphone\" r...</td>\n",
              "      <td>Finally some constructive political change in ...</td>\n",
              "      <td>NaN</td>\n",
              "      <td>NaN</td>\n",
              "      <td>NaN</td>\n",
              "      <td>https://twitter.com/dog_rates/status/676821958...</td>\n",
              "      <td>11</td>\n",
              "      <td>10</td>\n",
              "      <td>None</td>\n",
              "      <td>None</td>\n",
              "      <td>None</td>\n",
              "      <td>None</td>\n",
              "      <td>None</td>\n",
              "    </tr>\n",
              "    <tr>\n",
              "      <th>2168</th>\n",
              "      <td>669354382627049472</td>\n",
              "      <td>NaN</td>\n",
              "      <td>NaN</td>\n",
              "      <td>2015-11-25 03:18:15 +0000</td>\n",
              "      <td>&lt;a href=\"http://twitter.com/download/iphone\" r...</td>\n",
              "      <td>Meet Dug. Dug fucken loves peaches. 8/10 https...</td>\n",
              "      <td>NaN</td>\n",
              "      <td>NaN</td>\n",
              "      <td>NaN</td>\n",
              "      <td>https://twitter.com/dog_rates/status/669354382...</td>\n",
              "      <td>8</td>\n",
              "      <td>10</td>\n",
              "      <td>Dug</td>\n",
              "      <td>None</td>\n",
              "      <td>None</td>\n",
              "      <td>None</td>\n",
              "      <td>None</td>\n",
              "    </tr>\n",
              "    <tr>\n",
              "      <th>1260</th>\n",
              "      <td>710269109699739648</td>\n",
              "      <td>NaN</td>\n",
              "      <td>NaN</td>\n",
              "      <td>2016-03-17 00:58:46 +0000</td>\n",
              "      <td>&lt;a href=\"http://twitter.com/download/iphone\" r...</td>\n",
              "      <td>The squad is back for St. Patrick's Day! ☘ 💚\\n...</td>\n",
              "      <td>NaN</td>\n",
              "      <td>NaN</td>\n",
              "      <td>NaN</td>\n",
              "      <td>https://twitter.com/dog_rates/status/710269109...</td>\n",
              "      <td>13</td>\n",
              "      <td>10</td>\n",
              "      <td>None</td>\n",
              "      <td>None</td>\n",
              "      <td>None</td>\n",
              "      <td>None</td>\n",
              "      <td>None</td>\n",
              "    </tr>\n",
              "    <tr>\n",
              "      <th>1507</th>\n",
              "      <td>691675652215414786</td>\n",
              "      <td>NaN</td>\n",
              "      <td>NaN</td>\n",
              "      <td>2016-01-25 17:35:00 +0000</td>\n",
              "      <td>&lt;a href=\"http://twitter.com/download/iphone\" r...</td>\n",
              "      <td>This is Richie and Plip. They are the best of ...</td>\n",
              "      <td>NaN</td>\n",
              "      <td>NaN</td>\n",
              "      <td>NaN</td>\n",
              "      <td>https://twitter.com/dog_rates/status/691675652...</td>\n",
              "      <td>10</td>\n",
              "      <td>10</td>\n",
              "      <td>Richie</td>\n",
              "      <td>None</td>\n",
              "      <td>None</td>\n",
              "      <td>None</td>\n",
              "      <td>None</td>\n",
              "    </tr>\n",
              "    <tr>\n",
              "      <th>1171</th>\n",
              "      <td>720415127506415616</td>\n",
              "      <td>NaN</td>\n",
              "      <td>NaN</td>\n",
              "      <td>2016-04-14 00:55:25 +0000</td>\n",
              "      <td>&lt;a href=\"http://twitter.com/download/iphone\" r...</td>\n",
              "      <td>Garden's coming in nice this year. 10/10 https...</td>\n",
              "      <td>NaN</td>\n",
              "      <td>NaN</td>\n",
              "      <td>NaN</td>\n",
              "      <td>https://twitter.com/dog_rates/status/720415127...</td>\n",
              "      <td>10</td>\n",
              "      <td>10</td>\n",
              "      <td>None</td>\n",
              "      <td>None</td>\n",
              "      <td>None</td>\n",
              "      <td>None</td>\n",
              "      <td>None</td>\n",
              "    </tr>\n",
              "    <tr>\n",
              "      <th>145</th>\n",
              "      <td>863553081350529029</td>\n",
              "      <td>NaN</td>\n",
              "      <td>NaN</td>\n",
              "      <td>2017-05-14 00:34:33 +0000</td>\n",
              "      <td>&lt;a href=\"http://twitter.com/download/iphone\" r...</td>\n",
              "      <td>This is Neptune. He's a backpup vocalist for t...</td>\n",
              "      <td>NaN</td>\n",
              "      <td>NaN</td>\n",
              "      <td>NaN</td>\n",
              "      <td>https://twitter.com/dog_rates/status/863553081...</td>\n",
              "      <td>13</td>\n",
              "      <td>10</td>\n",
              "      <td>Neptune</td>\n",
              "      <td>None</td>\n",
              "      <td>None</td>\n",
              "      <td>None</td>\n",
              "      <td>None</td>\n",
              "    </tr>\n",
              "    <tr>\n",
              "      <th>93</th>\n",
              "      <td>874057562936811520</td>\n",
              "      <td>NaN</td>\n",
              "      <td>NaN</td>\n",
              "      <td>2017-06-12 00:15:36 +0000</td>\n",
              "      <td>&lt;a href=\"http://twitter.com/download/iphone\" r...</td>\n",
              "      <td>I can't believe this keeps happening. This, is...</td>\n",
              "      <td>NaN</td>\n",
              "      <td>NaN</td>\n",
              "      <td>NaN</td>\n",
              "      <td>https://twitter.com/dog_rates/status/874057562...</td>\n",
              "      <td>12</td>\n",
              "      <td>10</td>\n",
              "      <td>None</td>\n",
              "      <td>None</td>\n",
              "      <td>None</td>\n",
              "      <td>None</td>\n",
              "      <td>None</td>\n",
              "    </tr>\n",
              "    <tr>\n",
              "      <th>729</th>\n",
              "      <td>781955203444699136</td>\n",
              "      <td>NaN</td>\n",
              "      <td>NaN</td>\n",
              "      <td>2016-09-30 20:33:43 +0000</td>\n",
              "      <td>&lt;a href=\"http://twitter.com/download/iphone\" r...</td>\n",
              "      <td>This is Chipson. He weighed in at .3 ounces an...</td>\n",
              "      <td>NaN</td>\n",
              "      <td>NaN</td>\n",
              "      <td>NaN</td>\n",
              "      <td>https://twitter.com/dog_rates/status/781955203...</td>\n",
              "      <td>11</td>\n",
              "      <td>10</td>\n",
              "      <td>Chipson</td>\n",
              "      <td>None</td>\n",
              "      <td>None</td>\n",
              "      <td>None</td>\n",
              "      <td>None</td>\n",
              "    </tr>\n",
              "    <tr>\n",
              "      <th>1410</th>\n",
              "      <td>699036661657767936</td>\n",
              "      <td>NaN</td>\n",
              "      <td>NaN</td>\n",
              "      <td>2016-02-15 01:05:02 +0000</td>\n",
              "      <td>&lt;a href=\"http://twitter.com/download/iphone\" r...</td>\n",
              "      <td>HAPPY V-DAY FROM YOUR FAV PUPPER SQUAD 13/10 f...</td>\n",
              "      <td>NaN</td>\n",
              "      <td>NaN</td>\n",
              "      <td>NaN</td>\n",
              "      <td>https://twitter.com/dog_rates/status/699036661...</td>\n",
              "      <td>13</td>\n",
              "      <td>10</td>\n",
              "      <td>None</td>\n",
              "      <td>None</td>\n",
              "      <td>None</td>\n",
              "      <td>pupper</td>\n",
              "      <td>None</td>\n",
              "    </tr>\n",
              "  </tbody>\n",
              "</table>\n",
              "</div>"
            ],
            "text/plain": [
              "                tweet_id  in_reply_to_status_id  ...  pupper puppo\n",
              "1137  728046963732717569                    NaN  ...    None  None\n",
              "624   795464331001561088                    NaN  ...    None  None\n",
              "665   790698755171364864                    NaN  ...    None  None\n",
              "1107  734776360183431168                    NaN  ...    None  None\n",
              "72    878604707211726852                    NaN  ...    None  None\n",
              "1636  684200372118904832                    NaN  ...    None  None\n",
              "492   813217897535406080                    NaN  ...    None  None\n",
              "672   789903600034189313                    NaN  ...  pupper  None\n",
              "589   799308762079035393                    NaN  ...    None  None\n",
              "384   826958653328592898                    NaN  ...    None  None\n",
              "2354  666029285002620928                    NaN  ...    None  None\n",
              "1810  676821958043033607                    NaN  ...    None  None\n",
              "2168  669354382627049472                    NaN  ...    None  None\n",
              "1260  710269109699739648                    NaN  ...    None  None\n",
              "1507  691675652215414786                    NaN  ...    None  None\n",
              "1171  720415127506415616                    NaN  ...    None  None\n",
              "145   863553081350529029                    NaN  ...    None  None\n",
              "93    874057562936811520                    NaN  ...    None  None\n",
              "729   781955203444699136                    NaN  ...    None  None\n",
              "1410  699036661657767936                    NaN  ...  pupper  None\n",
              "\n",
              "[20 rows x 17 columns]"
            ]
          },
          "metadata": {
            "tags": []
          },
          "execution_count": 16
        }
      ]
    },
    {
      "cell_type": "code",
      "metadata": {
        "colab": {
          "base_uri": "https://localhost:8080/"
        },
        "id": "-E7Ev7RWqIaK",
        "outputId": "9ac20727-bbc8-471f-b66d-810e4acc59c9"
      },
      "source": [
        "Archive.info()"
      ],
      "execution_count": null,
      "outputs": [
        {
          "output_type": "stream",
          "text": [
            "<class 'pandas.core.frame.DataFrame'>\n",
            "RangeIndex: 2356 entries, 0 to 2355\n",
            "Data columns (total 17 columns):\n",
            " #   Column                      Non-Null Count  Dtype  \n",
            "---  ------                      --------------  -----  \n",
            " 0   tweet_id                    2356 non-null   int64  \n",
            " 1   in_reply_to_status_id       78 non-null     float64\n",
            " 2   in_reply_to_user_id         78 non-null     float64\n",
            " 3   timestamp                   2356 non-null   object \n",
            " 4   source                      2356 non-null   object \n",
            " 5   text                        2356 non-null   object \n",
            " 6   retweeted_status_id         181 non-null    float64\n",
            " 7   retweeted_status_user_id    181 non-null    float64\n",
            " 8   retweeted_status_timestamp  181 non-null    object \n",
            " 9   expanded_urls               2297 non-null   object \n",
            " 10  rating_numerator            2356 non-null   int64  \n",
            " 11  rating_denominator          2356 non-null   int64  \n",
            " 12  name                        2356 non-null   object \n",
            " 13  doggo                       2356 non-null   object \n",
            " 14  floofer                     2356 non-null   object \n",
            " 15  pupper                      2356 non-null   object \n",
            " 16  puppo                       2356 non-null   object \n",
            "dtypes: float64(4), int64(3), object(10)\n",
            "memory usage: 313.0+ KB\n"
          ],
          "name": "stdout"
        }
      ]
    },
    {
      "cell_type": "code",
      "metadata": {
        "colab": {
          "base_uri": "https://localhost:8080/"
        },
        "id": "wIG9fT1drLkn",
        "outputId": "117a4dc2-9f8d-4f5b-fe66-a4bac72336a9"
      },
      "source": [
        "Archive.rating_numerator.describe()"
      ],
      "execution_count": null,
      "outputs": [
        {
          "output_type": "execute_result",
          "data": {
            "text/plain": [
              "count    2356.000000\n",
              "mean       13.126486\n",
              "std        45.876648\n",
              "min         0.000000\n",
              "25%        10.000000\n",
              "50%        11.000000\n",
              "75%        12.000000\n",
              "max      1776.000000\n",
              "Name: rating_numerator, dtype: float64"
            ]
          },
          "metadata": {
            "tags": []
          },
          "execution_count": 18
        }
      ]
    },
    {
      "cell_type": "code",
      "metadata": {
        "colab": {
          "base_uri": "https://localhost:8080/"
        },
        "id": "-pwbEWZ4xgWa",
        "outputId": "e291f42f-767d-4c5d-8a78-ecd54238d7fe"
      },
      "source": [
        "#Tweets with less than 10 ratings count:\n",
        "Archive[Archive.rating_numerator<10].count()[0]"
      ],
      "execution_count": null,
      "outputs": [
        {
          "output_type": "execute_result",
          "data": {
            "text/plain": [
              "440"
            ]
          },
          "metadata": {
            "tags": []
          },
          "execution_count": 19
        }
      ]
    },
    {
      "cell_type": "code",
      "metadata": {
        "colab": {
          "base_uri": "https://localhost:8080/"
        },
        "id": "R4_BMqmhyGSn",
        "outputId": "0331a142-9e3d-4633-abd3-311e588b4a5b"
      },
      "source": [
        "#Tweets rated above 10 count:\n",
        "Archive[Archive.rating_numerator>10].count()[0]"
      ],
      "execution_count": null,
      "outputs": [
        {
          "output_type": "execute_result",
          "data": {
            "text/plain": [
              "1455"
            ]
          },
          "metadata": {
            "tags": []
          },
          "execution_count": 20
        }
      ]
    },
    {
      "cell_type": "code",
      "metadata": {
        "colab": {
          "base_uri": "https://localhost:8080/"
        },
        "id": "_bLPLAm1ywcw",
        "outputId": "026a801b-5481-4c5c-f5b3-b434c4e5568a"
      },
      "source": [
        "#Tweets rated equal 10 count:\n",
        "Archive[Archive.rating_numerator==10].count()[0]"
      ],
      "execution_count": null,
      "outputs": [
        {
          "output_type": "execute_result",
          "data": {
            "text/plain": [
              "461"
            ]
          },
          "metadata": {
            "tags": []
          },
          "execution_count": 21
        }
      ]
    },
    {
      "cell_type": "code",
      "metadata": {
        "colab": {
          "base_uri": "https://localhost:8080/"
        },
        "id": "4bTYkAffyQnO",
        "outputId": "1ebdd3c8-ee0a-4f00-8352-eb0f80f0c7f0"
      },
      "source": [
        "#Tweets with less than 10 ratings tweet_ids:\n",
        "Archive[Archive.rating_numerator<10].tweet_id.head()"
      ],
      "execution_count": null,
      "outputs": [
        {
          "output_type": "execute_result",
          "data": {
            "text/plain": [
              "45     883482846933004288\n",
              "229    848212111729840128\n",
              "315    835152434251116546\n",
              "387    826598799820865537\n",
              "462    817502432452313088\n",
              "Name: tweet_id, dtype: int64"
            ]
          },
          "metadata": {
            "tags": []
          },
          "execution_count": 22
        }
      ]
    },
    {
      "cell_type": "code",
      "metadata": {
        "colab": {
          "base_uri": "https://localhost:8080/"
        },
        "id": "E8h5krdOzDwz",
        "outputId": "be545b0a-7baa-4e91-d7fe-a3e7e8e9a038"
      },
      "source": [
        "#check an example from tweets with less than 10 ratings:\n",
        "Archive.loc[(Archive.tweet_id==826598799820865537),'rating_numerator']"
      ],
      "execution_count": null,
      "outputs": [
        {
          "output_type": "execute_result",
          "data": {
            "text/plain": [
              "387    7\n",
              "Name: rating_numerator, dtype: int64"
            ]
          },
          "metadata": {
            "tags": []
          },
          "execution_count": 23
        }
      ]
    },
    {
      "cell_type": "code",
      "metadata": {
        "colab": {
          "base_uri": "https://localhost:8080/",
          "height": 35
        },
        "id": "DiEDc6N91CSY",
        "outputId": "5126a8fe-4418-49bf-d901-0a795012c092"
      },
      "source": [
        "Archive.text[387]"
      ],
      "execution_count": null,
      "outputs": [
        {
          "output_type": "execute_result",
          "data": {
            "application/vnd.google.colaboratory.intrinsic+json": {
              "type": "string"
            },
            "text/plain": [
              "\"I was going to do 007/10, but the joke wasn't worth the &lt;10 rating\""
            ]
          },
          "metadata": {
            "tags": []
          },
          "execution_count": 24
        }
      ]
    },
    {
      "cell_type": "code",
      "metadata": {
        "colab": {
          "base_uri": "https://localhost:8080/"
        },
        "id": "xCvTWeP7sDPt",
        "outputId": "a0720faf-e867-4d45-d3af-2f74dfe5054f"
      },
      "source": [
        "#Supposed return 0\n",
        "Archive.tweet_id.duplicated().sum()"
      ],
      "execution_count": null,
      "outputs": [
        {
          "output_type": "execute_result",
          "data": {
            "text/plain": [
              "0"
            ]
          },
          "metadata": {
            "tags": []
          },
          "execution_count": 25
        }
      ]
    },
    {
      "cell_type": "code",
      "metadata": {
        "colab": {
          "base_uri": "https://localhost:8080/"
        },
        "id": "z5HSTdkP8SXH",
        "outputId": "54a3df69-85d4-4cb1-ddab-24596300faf2"
      },
      "source": [
        "Archive.rating_denominator.describe()"
      ],
      "execution_count": null,
      "outputs": [
        {
          "output_type": "execute_result",
          "data": {
            "text/plain": [
              "count    2356.000000\n",
              "mean       10.455433\n",
              "std         6.745237\n",
              "min         0.000000\n",
              "25%        10.000000\n",
              "50%        10.000000\n",
              "75%        10.000000\n",
              "max       170.000000\n",
              "Name: rating_denominator, dtype: float64"
            ]
          },
          "metadata": {
            "tags": []
          },
          "execution_count": 26
        }
      ]
    },
    {
      "cell_type": "code",
      "metadata": {
        "colab": {
          "base_uri": "https://localhost:8080/"
        },
        "id": "-KlSaY7_8aJ0",
        "outputId": "c7bf8146-6876-4a6d-b83b-51e030eca3c8"
      },
      "source": [
        "Archive[Archive.rating_denominator==0].tweet_id"
      ],
      "execution_count": null,
      "outputs": [
        {
          "output_type": "execute_result",
          "data": {
            "text/plain": [
              "313    835246439529840640\n",
              "Name: tweet_id, dtype: int64"
            ]
          },
          "metadata": {
            "tags": []
          },
          "execution_count": 27
        }
      ]
    },
    {
      "cell_type": "code",
      "metadata": {
        "colab": {
          "base_uri": "https://localhost:8080/",
          "height": 35
        },
        "id": "3ancg-WD-mjm",
        "outputId": "59634f11-e14b-413b-c99e-a2ea422da1a8"
      },
      "source": [
        "Archive.loc[313,'text']"
      ],
      "execution_count": null,
      "outputs": [
        {
          "output_type": "execute_result",
          "data": {
            "application/vnd.google.colaboratory.intrinsic+json": {
              "type": "string"
            },
            "text/plain": [
              "\"@jonnysun @Lin_Manuel ok jomny I know you're excited but 960/00 isn't a valid rating, 13/10 is tho\""
            ]
          },
          "metadata": {
            "tags": []
          },
          "execution_count": 28
        }
      ]
    },
    {
      "cell_type": "code",
      "metadata": {
        "colab": {
          "base_uri": "https://localhost:8080/"
        },
        "id": "GOxdeBHB_gaO",
        "outputId": "9cb20e76-340a-4d84-d7a4-277eeb616336"
      },
      "source": [
        "Archive[Archive.rating_denominator!=10].count()[0]"
      ],
      "execution_count": null,
      "outputs": [
        {
          "output_type": "execute_result",
          "data": {
            "text/plain": [
              "23"
            ]
          },
          "metadata": {
            "tags": []
          },
          "execution_count": 29
        }
      ]
    },
    {
      "cell_type": "code",
      "metadata": {
        "colab": {
          "base_uri": "https://localhost:8080/"
        },
        "id": "iKAp4sxD_zf5",
        "outputId": "22124cdc-270d-4ad2-bc4f-e7e729bc100a"
      },
      "source": [
        "Archive[Archive.rating_denominator!=10].tweet_id.head()"
      ],
      "execution_count": null,
      "outputs": [
        {
          "output_type": "execute_result",
          "data": {
            "text/plain": [
              "313    835246439529840640\n",
              "342    832088576586297345\n",
              "433    820690176645140481\n",
              "516    810984652412424192\n",
              "784    775096608509886464\n",
              "Name: tweet_id, dtype: int64"
            ]
          },
          "metadata": {
            "tags": []
          },
          "execution_count": 30
        }
      ]
    },
    {
      "cell_type": "code",
      "metadata": {
        "colab": {
          "base_uri": "https://localhost:8080/"
        },
        "id": "iiLM7uZ7__Qv",
        "outputId": "459543b6-e283-4667-d42c-079d96262205"
      },
      "source": [
        "Archive.name.sample(50)"
      ],
      "execution_count": null,
      "outputs": [
        {
          "output_type": "execute_result",
          "data": {
            "text/plain": [
              "225            Kevin\n",
              "570             None\n",
              "70              Beau\n",
              "1573            Marq\n",
              "483           Cooper\n",
              "1515            None\n",
              "2179          Tucker\n",
              "530             Milo\n",
              "660            Mabel\n",
              "2206            Zeek\n",
              "2178            None\n",
              "2065            None\n",
              "310             None\n",
              "85             Venti\n",
              "2243    Cleopatricia\n",
              "463              Ken\n",
              "1335         Jimothy\n",
              "334             None\n",
              "181             Zeke\n",
              "295          Vincent\n",
              "870             None\n",
              "1306            None\n",
              "1298            None\n",
              "1592            None\n",
              "1753            None\n",
              "401           Wilson\n",
              "1052        Maxaroni\n",
              "1865            None\n",
              "884            Sadie\n",
              "1741             Evy\n",
              "1284            Bear\n",
              "1353            None\n",
              "333           Willow\n",
              "252            Brady\n",
              "2001           light\n",
              "236           Furzey\n",
              "639             None\n",
              "780           Anakin\n",
              "1328            Lucy\n",
              "1972            None\n",
              "544            Major\n",
              "1740          Dwight\n",
              "759               an\n",
              "684             None\n",
              "12              None\n",
              "2253            None\n",
              "2185            Ruby\n",
              "1464            None\n",
              "2097           Jerry\n",
              "1948         Pickles\n",
              "Name: name, dtype: object"
            ]
          },
          "metadata": {
            "tags": []
          },
          "execution_count": 31
        }
      ]
    },
    {
      "cell_type": "markdown",
      "metadata": {
        "id": "XiUmCM-DA4zg"
      },
      "source": [
        "  **Second:** Assessing Image Predictions\n"
      ]
    },
    {
      "cell_type": "code",
      "metadata": {
        "colab": {
          "base_uri": "https://localhost:8080/"
        },
        "id": "KVueUfWsBP-u",
        "outputId": "53d42c7c-e701-4b02-fb63-e1a99dae3736"
      },
      "source": [
        "Predictions=pd.read_csv('image-predictions.tsv',sep='\\t')\n",
        "Predictions.info"
      ],
      "execution_count": null,
      "outputs": [
        {
          "output_type": "execute_result",
          "data": {
            "text/plain": [
              "<bound method DataFrame.info of                 tweet_id  ... p3_dog\n",
              "0     666020888022790149  ...   True\n",
              "1     666029285002620928  ...   True\n",
              "2     666033412701032449  ...   True\n",
              "3     666044226329800704  ...   True\n",
              "4     666049248165822465  ...   True\n",
              "...                  ...  ...    ...\n",
              "2070  891327558926688256  ...   True\n",
              "2071  891689557279858688  ...  False\n",
              "2072  891815181378084864  ...   True\n",
              "2073  892177421306343426  ...   True\n",
              "2074  892420643555336193  ...  False\n",
              "\n",
              "[2075 rows x 12 columns]>"
            ]
          },
          "metadata": {
            "tags": []
          },
          "execution_count": 32
        }
      ]
    },
    {
      "cell_type": "code",
      "metadata": {
        "colab": {
          "base_uri": "https://localhost:8080/",
          "height": 689
        },
        "id": "tXmb7_SfE43C",
        "outputId": "612c2869-c06a-4de0-dff2-0cebb11da908"
      },
      "source": [
        "Predictions.sample(20)"
      ],
      "execution_count": null,
      "outputs": [
        {
          "output_type": "execute_result",
          "data": {
            "text/html": [
              "<div>\n",
              "<style scoped>\n",
              "    .dataframe tbody tr th:only-of-type {\n",
              "        vertical-align: middle;\n",
              "    }\n",
              "\n",
              "    .dataframe tbody tr th {\n",
              "        vertical-align: top;\n",
              "    }\n",
              "\n",
              "    .dataframe thead th {\n",
              "        text-align: right;\n",
              "    }\n",
              "</style>\n",
              "<table border=\"1\" class=\"dataframe\">\n",
              "  <thead>\n",
              "    <tr style=\"text-align: right;\">\n",
              "      <th></th>\n",
              "      <th>tweet_id</th>\n",
              "      <th>jpg_url</th>\n",
              "      <th>img_num</th>\n",
              "      <th>p1</th>\n",
              "      <th>p1_conf</th>\n",
              "      <th>p1_dog</th>\n",
              "      <th>p2</th>\n",
              "      <th>p2_conf</th>\n",
              "      <th>p2_dog</th>\n",
              "      <th>p3</th>\n",
              "      <th>p3_conf</th>\n",
              "      <th>p3_dog</th>\n",
              "    </tr>\n",
              "  </thead>\n",
              "  <tbody>\n",
              "    <tr>\n",
              "      <th>243</th>\n",
              "      <td>670452855871037440</td>\n",
              "      <td>https://pbs.twimg.com/media/CU3tUC4WEAAoZby.jpg</td>\n",
              "      <td>1</td>\n",
              "      <td>Arctic_fox</td>\n",
              "      <td>0.188174</td>\n",
              "      <td>False</td>\n",
              "      <td>indri</td>\n",
              "      <td>0.123584</td>\n",
              "      <td>False</td>\n",
              "      <td>malamute</td>\n",
              "      <td>0.080379</td>\n",
              "      <td>True</td>\n",
              "    </tr>\n",
              "    <tr>\n",
              "      <th>1259</th>\n",
              "      <td>748699167502000129</td>\n",
              "      <td>https://pbs.twimg.com/media/CmPp5pOXgAAD_SG.jpg</td>\n",
              "      <td>1</td>\n",
              "      <td>Pembroke</td>\n",
              "      <td>0.849029</td>\n",
              "      <td>True</td>\n",
              "      <td>Cardigan</td>\n",
              "      <td>0.083629</td>\n",
              "      <td>True</td>\n",
              "      <td>kelpie</td>\n",
              "      <td>0.024394</td>\n",
              "      <td>True</td>\n",
              "    </tr>\n",
              "    <tr>\n",
              "      <th>285</th>\n",
              "      <td>671147085991960577</td>\n",
              "      <td>https://pbs.twimg.com/media/CVBktzQXAAAPpUA.jpg</td>\n",
              "      <td>1</td>\n",
              "      <td>Yorkshire_terrier</td>\n",
              "      <td>0.467202</td>\n",
              "      <td>True</td>\n",
              "      <td>cairn</td>\n",
              "      <td>0.440122</td>\n",
              "      <td>True</td>\n",
              "      <td>silky_terrier</td>\n",
              "      <td>0.058690</td>\n",
              "      <td>True</td>\n",
              "    </tr>\n",
              "    <tr>\n",
              "      <th>1807</th>\n",
              "      <td>832397543355072512</td>\n",
              "      <td>https://pbs.twimg.com/media/C41FIiAW8AA7lMr.jpg</td>\n",
              "      <td>1</td>\n",
              "      <td>Pekinese</td>\n",
              "      <td>0.988916</td>\n",
              "      <td>True</td>\n",
              "      <td>Brabancon_griffon</td>\n",
              "      <td>0.001677</td>\n",
              "      <td>True</td>\n",
              "      <td>Siamese_cat</td>\n",
              "      <td>0.001126</td>\n",
              "      <td>False</td>\n",
              "    </tr>\n",
              "    <tr>\n",
              "      <th>1576</th>\n",
              "      <td>796080075804475393</td>\n",
              "      <td>https://pbs.twimg.com/media/Cww-msrXcAAxm3K.jpg</td>\n",
              "      <td>1</td>\n",
              "      <td>chow</td>\n",
              "      <td>0.973846</td>\n",
              "      <td>True</td>\n",
              "      <td>Tibetan_mastiff</td>\n",
              "      <td>0.014110</td>\n",
              "      <td>True</td>\n",
              "      <td>gibbon</td>\n",
              "      <td>0.002358</td>\n",
              "      <td>False</td>\n",
              "    </tr>\n",
              "    <tr>\n",
              "      <th>1414</th>\n",
              "      <td>771014301343748096</td>\n",
              "      <td>https://pbs.twimg.com/media/CrMxZzgWIAQUxzx.jpg</td>\n",
              "      <td>1</td>\n",
              "      <td>meerkat</td>\n",
              "      <td>0.202335</td>\n",
              "      <td>False</td>\n",
              "      <td>doormat</td>\n",
              "      <td>0.111790</td>\n",
              "      <td>False</td>\n",
              "      <td>macaque</td>\n",
              "      <td>0.088925</td>\n",
              "      <td>False</td>\n",
              "    </tr>\n",
              "    <tr>\n",
              "      <th>1619</th>\n",
              "      <td>802624713319034886</td>\n",
              "      <td>https://pbs.twimg.com/media/CsrjryzWgAAZY00.jpg</td>\n",
              "      <td>1</td>\n",
              "      <td>cocker_spaniel</td>\n",
              "      <td>0.253442</td>\n",
              "      <td>True</td>\n",
              "      <td>golden_retriever</td>\n",
              "      <td>0.162850</td>\n",
              "      <td>True</td>\n",
              "      <td>otterhound</td>\n",
              "      <td>0.110921</td>\n",
              "      <td>True</td>\n",
              "    </tr>\n",
              "    <tr>\n",
              "      <th>2066</th>\n",
              "      <td>890609185150312448</td>\n",
              "      <td>https://pbs.twimg.com/media/DFwUU__XcAEpyXI.jpg</td>\n",
              "      <td>1</td>\n",
              "      <td>Irish_terrier</td>\n",
              "      <td>0.487574</td>\n",
              "      <td>True</td>\n",
              "      <td>Irish_setter</td>\n",
              "      <td>0.193054</td>\n",
              "      <td>True</td>\n",
              "      <td>Chesapeake_Bay_retriever</td>\n",
              "      <td>0.118184</td>\n",
              "      <td>True</td>\n",
              "    </tr>\n",
              "    <tr>\n",
              "      <th>766</th>\n",
              "      <td>689154315265683456</td>\n",
              "      <td>https://pbs.twimg.com/media/CZBeMMVUwAEdVqI.jpg</td>\n",
              "      <td>1</td>\n",
              "      <td>cocker_spaniel</td>\n",
              "      <td>0.816044</td>\n",
              "      <td>True</td>\n",
              "      <td>golden_retriever</td>\n",
              "      <td>0.054135</td>\n",
              "      <td>True</td>\n",
              "      <td>Airedale</td>\n",
              "      <td>0.030648</td>\n",
              "      <td>True</td>\n",
              "    </tr>\n",
              "    <tr>\n",
              "      <th>1182</th>\n",
              "      <td>738402415918125056</td>\n",
              "      <td>https://pbs.twimg.com/media/Cj9VEs_XAAAlTai.jpg</td>\n",
              "      <td>1</td>\n",
              "      <td>cocker_spaniel</td>\n",
              "      <td>0.346695</td>\n",
              "      <td>True</td>\n",
              "      <td>Blenheim_spaniel</td>\n",
              "      <td>0.193905</td>\n",
              "      <td>True</td>\n",
              "      <td>Chihuahua</td>\n",
              "      <td>0.078000</td>\n",
              "      <td>True</td>\n",
              "    </tr>\n",
              "    <tr>\n",
              "      <th>2003</th>\n",
              "      <td>877201837425926144</td>\n",
              "      <td>https://pbs.twimg.com/media/DCxyahJWsAAddSC.jpg</td>\n",
              "      <td>1</td>\n",
              "      <td>Pembroke</td>\n",
              "      <td>0.931120</td>\n",
              "      <td>True</td>\n",
              "      <td>Cardigan</td>\n",
              "      <td>0.068698</td>\n",
              "      <td>True</td>\n",
              "      <td>basenji</td>\n",
              "      <td>0.000082</td>\n",
              "      <td>True</td>\n",
              "    </tr>\n",
              "    <tr>\n",
              "      <th>103</th>\n",
              "      <td>667806454573760512</td>\n",
              "      <td>https://pbs.twimg.com/media/CUSGbXeVAAAgztZ.jpg</td>\n",
              "      <td>1</td>\n",
              "      <td>toyshop</td>\n",
              "      <td>0.253089</td>\n",
              "      <td>False</td>\n",
              "      <td>Chihuahua</td>\n",
              "      <td>0.187155</td>\n",
              "      <td>True</td>\n",
              "      <td>Brabancon_griffon</td>\n",
              "      <td>0.112799</td>\n",
              "      <td>True</td>\n",
              "    </tr>\n",
              "    <tr>\n",
              "      <th>4</th>\n",
              "      <td>666049248165822465</td>\n",
              "      <td>https://pbs.twimg.com/media/CT5IQmsXIAAKY4A.jpg</td>\n",
              "      <td>1</td>\n",
              "      <td>miniature_pinscher</td>\n",
              "      <td>0.560311</td>\n",
              "      <td>True</td>\n",
              "      <td>Rottweiler</td>\n",
              "      <td>0.243682</td>\n",
              "      <td>True</td>\n",
              "      <td>Doberman</td>\n",
              "      <td>0.154629</td>\n",
              "      <td>True</td>\n",
              "    </tr>\n",
              "    <tr>\n",
              "      <th>1421</th>\n",
              "      <td>772102971039580160</td>\n",
              "      <td>https://pbs.twimg.com/media/CrcPjh0WcAA_SPT.jpg</td>\n",
              "      <td>1</td>\n",
              "      <td>Pembroke</td>\n",
              "      <td>0.541780</td>\n",
              "      <td>True</td>\n",
              "      <td>Cardigan</td>\n",
              "      <td>0.260504</td>\n",
              "      <td>True</td>\n",
              "      <td>Shetland_sheepdog</td>\n",
              "      <td>0.063703</td>\n",
              "      <td>True</td>\n",
              "    </tr>\n",
              "    <tr>\n",
              "      <th>1176</th>\n",
              "      <td>737678689543020544</td>\n",
              "      <td>https://pbs.twimg.com/media/CjzC2oGWYAAyIfG.jpg</td>\n",
              "      <td>1</td>\n",
              "      <td>Pembroke</td>\n",
              "      <td>0.935307</td>\n",
              "      <td>True</td>\n",
              "      <td>Cardigan</td>\n",
              "      <td>0.049874</td>\n",
              "      <td>True</td>\n",
              "      <td>Chihuahua</td>\n",
              "      <td>0.011603</td>\n",
              "      <td>True</td>\n",
              "    </tr>\n",
              "    <tr>\n",
              "      <th>1336</th>\n",
              "      <td>758355060040593408</td>\n",
              "      <td>https://pbs.twimg.com/media/CoY324eWYAEiDOG.jpg</td>\n",
              "      <td>1</td>\n",
              "      <td>Pembroke</td>\n",
              "      <td>0.987643</td>\n",
              "      <td>True</td>\n",
              "      <td>Cardigan</td>\n",
              "      <td>0.012112</td>\n",
              "      <td>True</td>\n",
              "      <td>Siamese_cat</td>\n",
              "      <td>0.000117</td>\n",
              "      <td>False</td>\n",
              "    </tr>\n",
              "    <tr>\n",
              "      <th>375</th>\n",
              "      <td>672997845381865473</td>\n",
              "      <td>https://pbs.twimg.com/media/CVb39_1XIAAMoIv.jpg</td>\n",
              "      <td>1</td>\n",
              "      <td>chow</td>\n",
              "      <td>0.517255</td>\n",
              "      <td>True</td>\n",
              "      <td>Pomeranian</td>\n",
              "      <td>0.206053</td>\n",
              "      <td>True</td>\n",
              "      <td>koala</td>\n",
              "      <td>0.127037</td>\n",
              "      <td>False</td>\n",
              "    </tr>\n",
              "    <tr>\n",
              "      <th>624</th>\n",
              "      <td>680609293079592961</td>\n",
              "      <td>https://pbs.twimg.com/media/CXICiB9UwAE1sKY.jpg</td>\n",
              "      <td>1</td>\n",
              "      <td>French_bulldog</td>\n",
              "      <td>0.700764</td>\n",
              "      <td>True</td>\n",
              "      <td>Chihuahua</td>\n",
              "      <td>0.072390</td>\n",
              "      <td>True</td>\n",
              "      <td>American_Staffordshire_terrier</td>\n",
              "      <td>0.039619</td>\n",
              "      <td>True</td>\n",
              "    </tr>\n",
              "    <tr>\n",
              "      <th>1364</th>\n",
              "      <td>761371037149827077</td>\n",
              "      <td>https://pbs.twimg.com/tweet_video_thumb/CeBym7...</td>\n",
              "      <td>1</td>\n",
              "      <td>brown_bear</td>\n",
              "      <td>0.713293</td>\n",
              "      <td>False</td>\n",
              "      <td>Indian_elephant</td>\n",
              "      <td>0.172844</td>\n",
              "      <td>False</td>\n",
              "      <td>water_buffalo</td>\n",
              "      <td>0.038902</td>\n",
              "      <td>False</td>\n",
              "    </tr>\n",
              "    <tr>\n",
              "      <th>866</th>\n",
              "      <td>697482927769255936</td>\n",
              "      <td>https://pbs.twimg.com/media/Ca31BTgWwAA4uNU.jpg</td>\n",
              "      <td>1</td>\n",
              "      <td>bath_towel</td>\n",
              "      <td>0.110587</td>\n",
              "      <td>False</td>\n",
              "      <td>Christmas_stocking</td>\n",
              "      <td>0.108573</td>\n",
              "      <td>False</td>\n",
              "      <td>weasel</td>\n",
              "      <td>0.105442</td>\n",
              "      <td>False</td>\n",
              "    </tr>\n",
              "  </tbody>\n",
              "</table>\n",
              "</div>"
            ],
            "text/plain": [
              "                tweet_id  ... p3_dog\n",
              "243   670452855871037440  ...   True\n",
              "1259  748699167502000129  ...   True\n",
              "285   671147085991960577  ...   True\n",
              "1807  832397543355072512  ...  False\n",
              "1576  796080075804475393  ...  False\n",
              "1414  771014301343748096  ...  False\n",
              "1619  802624713319034886  ...   True\n",
              "2066  890609185150312448  ...   True\n",
              "766   689154315265683456  ...   True\n",
              "1182  738402415918125056  ...   True\n",
              "2003  877201837425926144  ...   True\n",
              "103   667806454573760512  ...   True\n",
              "4     666049248165822465  ...   True\n",
              "1421  772102971039580160  ...   True\n",
              "1176  737678689543020544  ...   True\n",
              "1336  758355060040593408  ...  False\n",
              "375   672997845381865473  ...  False\n",
              "624   680609293079592961  ...   True\n",
              "1364  761371037149827077  ...  False\n",
              "866   697482927769255936  ...  False\n",
              "\n",
              "[20 rows x 12 columns]"
            ]
          },
          "metadata": {
            "tags": []
          },
          "execution_count": 47
        }
      ]
    },
    {
      "cell_type": "code",
      "metadata": {
        "colab": {
          "base_uri": "https://localhost:8080/"
        },
        "id": "mmptUKe0GDQu",
        "outputId": "295ed13e-ee70-4ec9-9aed-281fd83259e6"
      },
      "source": [
        "Predictions.jpg_url.count()"
      ],
      "execution_count": null,
      "outputs": [
        {
          "output_type": "execute_result",
          "data": {
            "text/plain": [
              "2075"
            ]
          },
          "metadata": {
            "tags": []
          },
          "execution_count": 53
        }
      ]
    },
    {
      "cell_type": "code",
      "metadata": {
        "colab": {
          "base_uri": "https://localhost:8080/",
          "height": 35
        },
        "id": "mGvanBsMB5tK",
        "outputId": "955d4f40-c6f6-4fb1-c06f-f6228d6d8c58"
      },
      "source": [
        "#it predict image as doormat\n",
        "Predictions.loc[106,'jpg_url']"
      ],
      "execution_count": null,
      "outputs": [
        {
          "output_type": "execute_result",
          "data": {
            "application/vnd.google.colaboratory.intrinsic+json": {
              "type": "string"
            },
            "text/plain": [
              "'https://pbs.twimg.com/media/CUS9PlUWwAANeAD.jpg'"
            ]
          },
          "metadata": {
            "tags": []
          },
          "execution_count": 34
        }
      ]
    },
    {
      "cell_type": "code",
      "metadata": {
        "colab": {
          "base_uri": "https://localhost:8080/",
          "height": 772
        },
        "id": "nac3TSaMDB14",
        "outputId": "8e4bd94d-4143-4dbf-b126-95aee2b06363"
      },
      "source": [
        "from IPython.display import Image\n",
        "Image(url='https://pbs.twimg.com/media/CUS9PlUWwAANeAD.jpg')"
      ],
      "execution_count": null,
      "outputs": [
        {
          "output_type": "execute_result",
          "data": {
            "text/html": [
              "<img src=\"https://pbs.twimg.com/media/CUS9PlUWwAANeAD.jpg\"/>"
            ],
            "text/plain": [
              "<IPython.core.display.Image object>"
            ]
          },
          "metadata": {
            "tags": []
          },
          "execution_count": 49
        }
      ]
    },
    {
      "cell_type": "markdown",
      "metadata": {
        "id": "NzmGx_PrE-Aj"
      },
      "source": [
        "  **Third:** Assessing Twitter API:\n",
        "\n"
      ]
    },
    {
      "cell_type": "code",
      "metadata": {
        "colab": {
          "base_uri": "https://localhost:8080/",
          "height": 204
        },
        "id": "TreijM6AFSML",
        "outputId": "262d10af-712d-4795-b411-7bfd4857973c"
      },
      "source": [
        "TweetData.head()"
      ],
      "execution_count": null,
      "outputs": [
        {
          "output_type": "execute_result",
          "data": {
            "text/html": [
              "<div>\n",
              "<style scoped>\n",
              "    .dataframe tbody tr th:only-of-type {\n",
              "        vertical-align: middle;\n",
              "    }\n",
              "\n",
              "    .dataframe tbody tr th {\n",
              "        vertical-align: top;\n",
              "    }\n",
              "\n",
              "    .dataframe thead th {\n",
              "        text-align: right;\n",
              "    }\n",
              "</style>\n",
              "<table border=\"1\" class=\"dataframe\">\n",
              "  <thead>\n",
              "    <tr style=\"text-align: right;\">\n",
              "      <th></th>\n",
              "      <th>tweet_id</th>\n",
              "      <th>favorite_count</th>\n",
              "      <th>retweet_count</th>\n",
              "    </tr>\n",
              "  </thead>\n",
              "  <tbody>\n",
              "    <tr>\n",
              "      <th>0</th>\n",
              "      <td>892420643555336193</td>\n",
              "      <td>38089</td>\n",
              "      <td>8330</td>\n",
              "    </tr>\n",
              "    <tr>\n",
              "      <th>1</th>\n",
              "      <td>892177421306343426</td>\n",
              "      <td>32679</td>\n",
              "      <td>6154</td>\n",
              "    </tr>\n",
              "    <tr>\n",
              "      <th>2</th>\n",
              "      <td>891815181378084864</td>\n",
              "      <td>24595</td>\n",
              "      <td>4073</td>\n",
              "    </tr>\n",
              "    <tr>\n",
              "      <th>3</th>\n",
              "      <td>891689557279858688</td>\n",
              "      <td>41449</td>\n",
              "      <td>8474</td>\n",
              "    </tr>\n",
              "    <tr>\n",
              "      <th>4</th>\n",
              "      <td>891327558926688256</td>\n",
              "      <td>39623</td>\n",
              "      <td>9167</td>\n",
              "    </tr>\n",
              "  </tbody>\n",
              "</table>\n",
              "</div>"
            ],
            "text/plain": [
              "             tweet_id  favorite_count  retweet_count\n",
              "0  892420643555336193           38089           8330\n",
              "1  892177421306343426           32679           6154\n",
              "2  891815181378084864           24595           4073\n",
              "3  891689557279858688           41449           8474\n",
              "4  891327558926688256           39623           9167"
            ]
          },
          "metadata": {
            "tags": []
          },
          "execution_count": 36
        }
      ]
    },
    {
      "cell_type": "code",
      "metadata": {
        "colab": {
          "base_uri": "https://localhost:8080/",
          "height": 669
        },
        "id": "Yf_oHXvDFaU9",
        "outputId": "34d6800c-84a1-4d58-807e-241d671b9553"
      },
      "source": [
        "TweetData.sample(20)"
      ],
      "execution_count": null,
      "outputs": [
        {
          "output_type": "execute_result",
          "data": {
            "text/html": [
              "<div>\n",
              "<style scoped>\n",
              "    .dataframe tbody tr th:only-of-type {\n",
              "        vertical-align: middle;\n",
              "    }\n",
              "\n",
              "    .dataframe tbody tr th {\n",
              "        vertical-align: top;\n",
              "    }\n",
              "\n",
              "    .dataframe thead th {\n",
              "        text-align: right;\n",
              "    }\n",
              "</style>\n",
              "<table border=\"1\" class=\"dataframe\">\n",
              "  <thead>\n",
              "    <tr style=\"text-align: right;\">\n",
              "      <th></th>\n",
              "      <th>tweet_id</th>\n",
              "      <th>favorite_count</th>\n",
              "      <th>retweet_count</th>\n",
              "    </tr>\n",
              "  </thead>\n",
              "  <tbody>\n",
              "    <tr>\n",
              "      <th>2187</th>\n",
              "      <td>668641109086707712</td>\n",
              "      <td>1098</td>\n",
              "      <td>553</td>\n",
              "    </tr>\n",
              "    <tr>\n",
              "      <th>1384</th>\n",
              "      <td>699691744225525762</td>\n",
              "      <td>10773</td>\n",
              "      <td>4902</td>\n",
              "    </tr>\n",
              "    <tr>\n",
              "      <th>703</th>\n",
              "      <td>783839966405230592</td>\n",
              "      <td>32163</td>\n",
              "      <td>11841</td>\n",
              "    </tr>\n",
              "    <tr>\n",
              "      <th>1877</th>\n",
              "      <td>674752233200820224</td>\n",
              "      <td>1502</td>\n",
              "      <td>486</td>\n",
              "    </tr>\n",
              "    <tr>\n",
              "      <th>2215</th>\n",
              "      <td>668226093875376128</td>\n",
              "      <td>305</td>\n",
              "      <td>106</td>\n",
              "    </tr>\n",
              "    <tr>\n",
              "      <th>1058</th>\n",
              "      <td>739932936087216128</td>\n",
              "      <td>4249</td>\n",
              "      <td>1154</td>\n",
              "    </tr>\n",
              "    <tr>\n",
              "      <th>880</th>\n",
              "      <td>759197388317847553</td>\n",
              "      <td>6416</td>\n",
              "      <td>2107</td>\n",
              "    </tr>\n",
              "    <tr>\n",
              "      <th>1991</th>\n",
              "      <td>672264251789176834</td>\n",
              "      <td>1166</td>\n",
              "      <td>347</td>\n",
              "    </tr>\n",
              "    <tr>\n",
              "      <th>2036</th>\n",
              "      <td>671486386088865792</td>\n",
              "      <td>589</td>\n",
              "      <td>211</td>\n",
              "    </tr>\n",
              "    <tr>\n",
              "      <th>394</th>\n",
              "      <td>824025158776213504</td>\n",
              "      <td>5066</td>\n",
              "      <td>641</td>\n",
              "    </tr>\n",
              "    <tr>\n",
              "      <th>41</th>\n",
              "      <td>884247878851493888</td>\n",
              "      <td>71791</td>\n",
              "      <td>20100</td>\n",
              "    </tr>\n",
              "    <tr>\n",
              "      <th>2292</th>\n",
              "      <td>666817836334096384</td>\n",
              "      <td>520</td>\n",
              "      <td>251</td>\n",
              "    </tr>\n",
              "    <tr>\n",
              "      <th>800</th>\n",
              "      <td>771102124360998913</td>\n",
              "      <td>6634</td>\n",
              "      <td>1560</td>\n",
              "    </tr>\n",
              "    <tr>\n",
              "      <th>2270</th>\n",
              "      <td>667182792070062081</td>\n",
              "      <td>14410</td>\n",
              "      <td>6272</td>\n",
              "    </tr>\n",
              "    <tr>\n",
              "      <th>698</th>\n",
              "      <td>784826020293709826</td>\n",
              "      <td>10854</td>\n",
              "      <td>3542</td>\n",
              "    </tr>\n",
              "    <tr>\n",
              "      <th>469</th>\n",
              "      <td>815745968457060357</td>\n",
              "      <td>0</td>\n",
              "      <td>4525</td>\n",
              "    </tr>\n",
              "    <tr>\n",
              "      <th>1383</th>\n",
              "      <td>699775878809702401</td>\n",
              "      <td>2059</td>\n",
              "      <td>645</td>\n",
              "    </tr>\n",
              "    <tr>\n",
              "      <th>280</th>\n",
              "      <td>838476387338051585</td>\n",
              "      <td>23690</td>\n",
              "      <td>5161</td>\n",
              "    </tr>\n",
              "    <tr>\n",
              "      <th>1001</th>\n",
              "      <td>746906459439529985</td>\n",
              "      <td>3039</td>\n",
              "      <td>317</td>\n",
              "    </tr>\n",
              "    <tr>\n",
              "      <th>1246</th>\n",
              "      <td>710153181850935296</td>\n",
              "      <td>3043</td>\n",
              "      <td>953</td>\n",
              "    </tr>\n",
              "  </tbody>\n",
              "</table>\n",
              "</div>"
            ],
            "text/plain": [
              "                tweet_id  favorite_count  retweet_count\n",
              "2187  668641109086707712            1098            553\n",
              "1384  699691744225525762           10773           4902\n",
              "703   783839966405230592           32163          11841\n",
              "1877  674752233200820224            1502            486\n",
              "2215  668226093875376128             305            106\n",
              "1058  739932936087216128            4249           1154\n",
              "880   759197388317847553            6416           2107\n",
              "1991  672264251789176834            1166            347\n",
              "2036  671486386088865792             589            211\n",
              "394   824025158776213504            5066            641\n",
              "41    884247878851493888           71791          20100\n",
              "2292  666817836334096384             520            251\n",
              "800   771102124360998913            6634           1560\n",
              "2270  667182792070062081           14410           6272\n",
              "698   784826020293709826           10854           3542\n",
              "469   815745968457060357               0           4525\n",
              "1383  699775878809702401            2059            645\n",
              "280   838476387338051585           23690           5161\n",
              "1001  746906459439529985            3039            317\n",
              "1246  710153181850935296            3043            953"
            ]
          },
          "metadata": {
            "tags": []
          },
          "execution_count": 43
        }
      ]
    },
    {
      "cell_type": "code",
      "metadata": {
        "colab": {
          "base_uri": "https://localhost:8080/"
        },
        "id": "R8GG3GcRFevi",
        "outputId": "ce94ef4e-0cd6-4407-8f80-0a683cf7c30b"
      },
      "source": [
        "TweetData.info()"
      ],
      "execution_count": null,
      "outputs": [
        {
          "output_type": "stream",
          "text": [
            "<class 'pandas.core.frame.DataFrame'>\n",
            "RangeIndex: 2340 entries, 0 to 2339\n",
            "Data columns (total 3 columns):\n",
            " #   Column          Non-Null Count  Dtype\n",
            "---  ------          --------------  -----\n",
            " 0   tweet_id        2340 non-null   int64\n",
            " 1   favorite_count  2340 non-null   int64\n",
            " 2   retweet_count   2340 non-null   int64\n",
            "dtypes: int64(3)\n",
            "memory usage: 55.0 KB\n"
          ],
          "name": "stdout"
        }
      ]
    },
    {
      "cell_type": "markdown",
      "metadata": {
        "id": "wuVziUiKF6pK"
      },
      "source": [
        "**Tidiness:**"
      ]
    },
    {
      "cell_type": "markdown",
      "metadata": {
        "id": "vFRj6mBkGIdd"
      },
      "source": [
        "*   Most tweets don't specify the dog_stage.\n",
        "*   All data is related but separated into 3 dataframes\n",
        "\n"
      ]
    },
    {
      "cell_type": "markdown",
      "metadata": {
        "id": "i7cIJmfRk42A"
      },
      "source": [
        "\n",
        "\n",
        "\n",
        "**Quality:**"
      ]
    },
    {
      "cell_type": "markdown",
      "metadata": {
        "id": "2UZozB4XlFeD"
      },
      "source": [
        "1.\tTimestamp column has dates in string form.\n",
        "2.\tRating_numerator & Rating_denominator columns should be float.\n",
        "3.\tRow 313 has 0 denominator\n",
        "4.\tNot all tweets contain photos.(2075 entries of 2356)\n",
        "5.\tunderscores are used in many names in columns p1,p2,p3 instead of spaces.\n",
        "6.\tNot all tweets didn't include the dog's name correctly. ex(rows:570,2065,310 name = None & row:759 name = an)\n",
        "7.\tThere are 78 reply tweets\n",
        "8.\tNot all tweets start with uppercase letters.\n",
        "9.\tTweet_id column has ids in int64 form which we don't need to have this type because there are no mathematical operations on it.\n"
      ]
    },
    {
      "cell_type": "markdown",
      "metadata": {
        "id": "ZyqMY37hHeBY"
      },
      "source": [
        "# **4. Cleaning Data:**\n",
        "\n",
        "\n"
      ]
    },
    {
      "cell_type": "markdown",
      "metadata": {
        "id": "8p5ThoprHttn"
      },
      "source": [
        " **First. Copy Dataframes:**"
      ]
    },
    {
      "cell_type": "code",
      "metadata": {
        "id": "uuoVsdDwIffy"
      },
      "source": [
        "C_Archive=Archive.copy()\n",
        "C_Predictions=Predictions.copy()\n",
        "C_TweetData=TweetData.copy()"
      ],
      "execution_count": null,
      "outputs": []
    },
    {
      "cell_type": "code",
      "metadata": {
        "colab": {
          "base_uri": "https://localhost:8080/",
          "height": 581
        },
        "id": "-n3EcRxFJLMR",
        "outputId": "a5044113-24c1-41ae-8601-32f038c84f4f"
      },
      "source": [
        "C_Archive.head()"
      ],
      "execution_count": null,
      "outputs": [
        {
          "output_type": "execute_result",
          "data": {
            "text/html": [
              "<div>\n",
              "<style scoped>\n",
              "    .dataframe tbody tr th:only-of-type {\n",
              "        vertical-align: middle;\n",
              "    }\n",
              "\n",
              "    .dataframe tbody tr th {\n",
              "        vertical-align: top;\n",
              "    }\n",
              "\n",
              "    .dataframe thead th {\n",
              "        text-align: right;\n",
              "    }\n",
              "</style>\n",
              "<table border=\"1\" class=\"dataframe\">\n",
              "  <thead>\n",
              "    <tr style=\"text-align: right;\">\n",
              "      <th></th>\n",
              "      <th>tweet_id</th>\n",
              "      <th>in_reply_to_status_id</th>\n",
              "      <th>in_reply_to_user_id</th>\n",
              "      <th>timestamp</th>\n",
              "      <th>source</th>\n",
              "      <th>text</th>\n",
              "      <th>retweeted_status_id</th>\n",
              "      <th>retweeted_status_user_id</th>\n",
              "      <th>retweeted_status_timestamp</th>\n",
              "      <th>expanded_urls</th>\n",
              "      <th>rating_numerator</th>\n",
              "      <th>rating_denominator</th>\n",
              "      <th>name</th>\n",
              "      <th>doggo</th>\n",
              "      <th>floofer</th>\n",
              "      <th>pupper</th>\n",
              "      <th>puppo</th>\n",
              "    </tr>\n",
              "  </thead>\n",
              "  <tbody>\n",
              "    <tr>\n",
              "      <th>0</th>\n",
              "      <td>892420643555336193</td>\n",
              "      <td>NaN</td>\n",
              "      <td>NaN</td>\n",
              "      <td>2017-08-01 16:23:56 +0000</td>\n",
              "      <td>&lt;a href=\"http://twitter.com/download/iphone\" r...</td>\n",
              "      <td>This is Phineas. He's a mystical boy. Only eve...</td>\n",
              "      <td>NaN</td>\n",
              "      <td>NaN</td>\n",
              "      <td>NaN</td>\n",
              "      <td>https://twitter.com/dog_rates/status/892420643...</td>\n",
              "      <td>13</td>\n",
              "      <td>10</td>\n",
              "      <td>Phineas</td>\n",
              "      <td>None</td>\n",
              "      <td>None</td>\n",
              "      <td>None</td>\n",
              "      <td>None</td>\n",
              "    </tr>\n",
              "    <tr>\n",
              "      <th>1</th>\n",
              "      <td>892177421306343426</td>\n",
              "      <td>NaN</td>\n",
              "      <td>NaN</td>\n",
              "      <td>2017-08-01 00:17:27 +0000</td>\n",
              "      <td>&lt;a href=\"http://twitter.com/download/iphone\" r...</td>\n",
              "      <td>This is Tilly. She's just checking pup on you....</td>\n",
              "      <td>NaN</td>\n",
              "      <td>NaN</td>\n",
              "      <td>NaN</td>\n",
              "      <td>https://twitter.com/dog_rates/status/892177421...</td>\n",
              "      <td>13</td>\n",
              "      <td>10</td>\n",
              "      <td>Tilly</td>\n",
              "      <td>None</td>\n",
              "      <td>None</td>\n",
              "      <td>None</td>\n",
              "      <td>None</td>\n",
              "    </tr>\n",
              "    <tr>\n",
              "      <th>2</th>\n",
              "      <td>891815181378084864</td>\n",
              "      <td>NaN</td>\n",
              "      <td>NaN</td>\n",
              "      <td>2017-07-31 00:18:03 +0000</td>\n",
              "      <td>&lt;a href=\"http://twitter.com/download/iphone\" r...</td>\n",
              "      <td>This is Archie. He is a rare Norwegian Pouncin...</td>\n",
              "      <td>NaN</td>\n",
              "      <td>NaN</td>\n",
              "      <td>NaN</td>\n",
              "      <td>https://twitter.com/dog_rates/status/891815181...</td>\n",
              "      <td>12</td>\n",
              "      <td>10</td>\n",
              "      <td>Archie</td>\n",
              "      <td>None</td>\n",
              "      <td>None</td>\n",
              "      <td>None</td>\n",
              "      <td>None</td>\n",
              "    </tr>\n",
              "    <tr>\n",
              "      <th>3</th>\n",
              "      <td>891689557279858688</td>\n",
              "      <td>NaN</td>\n",
              "      <td>NaN</td>\n",
              "      <td>2017-07-30 15:58:51 +0000</td>\n",
              "      <td>&lt;a href=\"http://twitter.com/download/iphone\" r...</td>\n",
              "      <td>This is Darla. She commenced a snooze mid meal...</td>\n",
              "      <td>NaN</td>\n",
              "      <td>NaN</td>\n",
              "      <td>NaN</td>\n",
              "      <td>https://twitter.com/dog_rates/status/891689557...</td>\n",
              "      <td>13</td>\n",
              "      <td>10</td>\n",
              "      <td>Darla</td>\n",
              "      <td>None</td>\n",
              "      <td>None</td>\n",
              "      <td>None</td>\n",
              "      <td>None</td>\n",
              "    </tr>\n",
              "    <tr>\n",
              "      <th>4</th>\n",
              "      <td>891327558926688256</td>\n",
              "      <td>NaN</td>\n",
              "      <td>NaN</td>\n",
              "      <td>2017-07-29 16:00:24 +0000</td>\n",
              "      <td>&lt;a href=\"http://twitter.com/download/iphone\" r...</td>\n",
              "      <td>This is Franklin. He would like you to stop ca...</td>\n",
              "      <td>NaN</td>\n",
              "      <td>NaN</td>\n",
              "      <td>NaN</td>\n",
              "      <td>https://twitter.com/dog_rates/status/891327558...</td>\n",
              "      <td>12</td>\n",
              "      <td>10</td>\n",
              "      <td>Franklin</td>\n",
              "      <td>None</td>\n",
              "      <td>None</td>\n",
              "      <td>None</td>\n",
              "      <td>None</td>\n",
              "    </tr>\n",
              "  </tbody>\n",
              "</table>\n",
              "</div>"
            ],
            "text/plain": [
              "             tweet_id  in_reply_to_status_id  ...  pupper puppo\n",
              "0  892420643555336193                    NaN  ...    None  None\n",
              "1  892177421306343426                    NaN  ...    None  None\n",
              "2  891815181378084864                    NaN  ...    None  None\n",
              "3  891689557279858688                    NaN  ...    None  None\n",
              "4  891327558926688256                    NaN  ...    None  None\n",
              "\n",
              "[5 rows x 17 columns]"
            ]
          },
          "metadata": {
            "tags": []
          },
          "execution_count": 143
        }
      ]
    },
    {
      "cell_type": "code",
      "metadata": {
        "colab": {
          "base_uri": "https://localhost:8080/",
          "height": 224
        },
        "id": "3Yc-sHm3JuQB",
        "outputId": "67ee5ca3-a91e-4115-dcc7-56567f48226a"
      },
      "source": [
        "C_Predictions.head()"
      ],
      "execution_count": null,
      "outputs": [
        {
          "output_type": "execute_result",
          "data": {
            "text/html": [
              "<div>\n",
              "<style scoped>\n",
              "    .dataframe tbody tr th:only-of-type {\n",
              "        vertical-align: middle;\n",
              "    }\n",
              "\n",
              "    .dataframe tbody tr th {\n",
              "        vertical-align: top;\n",
              "    }\n",
              "\n",
              "    .dataframe thead th {\n",
              "        text-align: right;\n",
              "    }\n",
              "</style>\n",
              "<table border=\"1\" class=\"dataframe\">\n",
              "  <thead>\n",
              "    <tr style=\"text-align: right;\">\n",
              "      <th></th>\n",
              "      <th>tweet_id</th>\n",
              "      <th>jpg_url</th>\n",
              "      <th>img_num</th>\n",
              "      <th>p1</th>\n",
              "      <th>p1_conf</th>\n",
              "      <th>p1_dog</th>\n",
              "      <th>p2</th>\n",
              "      <th>p2_conf</th>\n",
              "      <th>p2_dog</th>\n",
              "      <th>p3</th>\n",
              "      <th>p3_conf</th>\n",
              "      <th>p3_dog</th>\n",
              "    </tr>\n",
              "  </thead>\n",
              "  <tbody>\n",
              "    <tr>\n",
              "      <th>0</th>\n",
              "      <td>666020888022790149</td>\n",
              "      <td>https://pbs.twimg.com/media/CT4udn0WwAA0aMy.jpg</td>\n",
              "      <td>1</td>\n",
              "      <td>Welsh_springer_spaniel</td>\n",
              "      <td>0.465074</td>\n",
              "      <td>True</td>\n",
              "      <td>collie</td>\n",
              "      <td>0.156665</td>\n",
              "      <td>True</td>\n",
              "      <td>Shetland_sheepdog</td>\n",
              "      <td>0.061428</td>\n",
              "      <td>True</td>\n",
              "    </tr>\n",
              "    <tr>\n",
              "      <th>1</th>\n",
              "      <td>666029285002620928</td>\n",
              "      <td>https://pbs.twimg.com/media/CT42GRgUYAA5iDo.jpg</td>\n",
              "      <td>1</td>\n",
              "      <td>redbone</td>\n",
              "      <td>0.506826</td>\n",
              "      <td>True</td>\n",
              "      <td>miniature_pinscher</td>\n",
              "      <td>0.074192</td>\n",
              "      <td>True</td>\n",
              "      <td>Rhodesian_ridgeback</td>\n",
              "      <td>0.072010</td>\n",
              "      <td>True</td>\n",
              "    </tr>\n",
              "    <tr>\n",
              "      <th>2</th>\n",
              "      <td>666033412701032449</td>\n",
              "      <td>https://pbs.twimg.com/media/CT4521TWwAEvMyu.jpg</td>\n",
              "      <td>1</td>\n",
              "      <td>German_shepherd</td>\n",
              "      <td>0.596461</td>\n",
              "      <td>True</td>\n",
              "      <td>malinois</td>\n",
              "      <td>0.138584</td>\n",
              "      <td>True</td>\n",
              "      <td>bloodhound</td>\n",
              "      <td>0.116197</td>\n",
              "      <td>True</td>\n",
              "    </tr>\n",
              "    <tr>\n",
              "      <th>3</th>\n",
              "      <td>666044226329800704</td>\n",
              "      <td>https://pbs.twimg.com/media/CT5Dr8HUEAA-lEu.jpg</td>\n",
              "      <td>1</td>\n",
              "      <td>Rhodesian_ridgeback</td>\n",
              "      <td>0.408143</td>\n",
              "      <td>True</td>\n",
              "      <td>redbone</td>\n",
              "      <td>0.360687</td>\n",
              "      <td>True</td>\n",
              "      <td>miniature_pinscher</td>\n",
              "      <td>0.222752</td>\n",
              "      <td>True</td>\n",
              "    </tr>\n",
              "    <tr>\n",
              "      <th>4</th>\n",
              "      <td>666049248165822465</td>\n",
              "      <td>https://pbs.twimg.com/media/CT5IQmsXIAAKY4A.jpg</td>\n",
              "      <td>1</td>\n",
              "      <td>miniature_pinscher</td>\n",
              "      <td>0.560311</td>\n",
              "      <td>True</td>\n",
              "      <td>Rottweiler</td>\n",
              "      <td>0.243682</td>\n",
              "      <td>True</td>\n",
              "      <td>Doberman</td>\n",
              "      <td>0.154629</td>\n",
              "      <td>True</td>\n",
              "    </tr>\n",
              "  </tbody>\n",
              "</table>\n",
              "</div>"
            ],
            "text/plain": [
              "             tweet_id  ... p3_dog\n",
              "0  666020888022790149  ...   True\n",
              "1  666029285002620928  ...   True\n",
              "2  666033412701032449  ...   True\n",
              "3  666044226329800704  ...   True\n",
              "4  666049248165822465  ...   True\n",
              "\n",
              "[5 rows x 12 columns]"
            ]
          },
          "metadata": {
            "tags": []
          },
          "execution_count": 144
        }
      ]
    },
    {
      "cell_type": "code",
      "metadata": {
        "colab": {
          "base_uri": "https://localhost:8080/",
          "height": 204
        },
        "id": "a3e3wZ8VJxsR",
        "outputId": "532a9f75-3773-4d7f-c3dd-ee70e1ffbe81"
      },
      "source": [
        "C_TweetData.head()"
      ],
      "execution_count": null,
      "outputs": [
        {
          "output_type": "execute_result",
          "data": {
            "text/html": [
              "<div>\n",
              "<style scoped>\n",
              "    .dataframe tbody tr th:only-of-type {\n",
              "        vertical-align: middle;\n",
              "    }\n",
              "\n",
              "    .dataframe tbody tr th {\n",
              "        vertical-align: top;\n",
              "    }\n",
              "\n",
              "    .dataframe thead th {\n",
              "        text-align: right;\n",
              "    }\n",
              "</style>\n",
              "<table border=\"1\" class=\"dataframe\">\n",
              "  <thead>\n",
              "    <tr style=\"text-align: right;\">\n",
              "      <th></th>\n",
              "      <th>tweet_id</th>\n",
              "      <th>favorite_count</th>\n",
              "      <th>retweet_count</th>\n",
              "    </tr>\n",
              "  </thead>\n",
              "  <tbody>\n",
              "    <tr>\n",
              "      <th>0</th>\n",
              "      <td>892420643555336193</td>\n",
              "      <td>38089</td>\n",
              "      <td>8330</td>\n",
              "    </tr>\n",
              "    <tr>\n",
              "      <th>1</th>\n",
              "      <td>892177421306343426</td>\n",
              "      <td>32679</td>\n",
              "      <td>6154</td>\n",
              "    </tr>\n",
              "    <tr>\n",
              "      <th>2</th>\n",
              "      <td>891815181378084864</td>\n",
              "      <td>24595</td>\n",
              "      <td>4073</td>\n",
              "    </tr>\n",
              "    <tr>\n",
              "      <th>3</th>\n",
              "      <td>891689557279858688</td>\n",
              "      <td>41449</td>\n",
              "      <td>8474</td>\n",
              "    </tr>\n",
              "    <tr>\n",
              "      <th>4</th>\n",
              "      <td>891327558926688256</td>\n",
              "      <td>39623</td>\n",
              "      <td>9167</td>\n",
              "    </tr>\n",
              "  </tbody>\n",
              "</table>\n",
              "</div>"
            ],
            "text/plain": [
              "             tweet_id  favorite_count  retweet_count\n",
              "0  892420643555336193           38089           8330\n",
              "1  892177421306343426           32679           6154\n",
              "2  891815181378084864           24595           4073\n",
              "3  891689557279858688           41449           8474\n",
              "4  891327558926688256           39623           9167"
            ]
          },
          "metadata": {
            "tags": []
          },
          "execution_count": 145
        }
      ]
    },
    {
      "cell_type": "markdown",
      "metadata": {
        "id": "KEJ4F5IEKkpq"
      },
      "source": [
        " **Second. Clean Tidiness:**"
      ]
    },
    {
      "cell_type": "markdown",
      "metadata": {
        "id": "CkVZWTXRLhKY"
      },
      "source": [
        "1. Most tweets don't specify the dog_stage."
      ]
    },
    {
      "cell_type": "markdown",
      "metadata": {
        "id": "Jyupxvu2MEBW"
      },
      "source": [
        "**Define:**"
      ]
    },
    {
      "cell_type": "markdown",
      "metadata": {
        "id": "dS1yPz9FOfjx"
      },
      "source": [
        "  Merge 4 columns to 1 columns Called Stage"
      ]
    },
    {
      "cell_type": "markdown",
      "metadata": {
        "id": "ffrpc7Z4Oh9Y"
      },
      "source": [
        "**Code:**"
      ]
    },
    {
      "cell_type": "code",
      "metadata": {
        "colab": {
          "base_uri": "https://localhost:8080/",
          "height": 1000
        },
        "id": "PrXVBQ57Lggv",
        "outputId": "a8c862dd-368c-4388-9037-83b677f5e8c2"
      },
      "source": [
        "C_Archive['Stage']=C_Archive['text'].str.extract('(doggo|floofer|pupper|puppo)')\n",
        "C_Archive.sample(10)"
      ],
      "execution_count": null,
      "outputs": [
        {
          "output_type": "execute_result",
          "data": {
            "text/html": [
              "<div>\n",
              "<style scoped>\n",
              "    .dataframe tbody tr th:only-of-type {\n",
              "        vertical-align: middle;\n",
              "    }\n",
              "\n",
              "    .dataframe tbody tr th {\n",
              "        vertical-align: top;\n",
              "    }\n",
              "\n",
              "    .dataframe thead th {\n",
              "        text-align: right;\n",
              "    }\n",
              "</style>\n",
              "<table border=\"1\" class=\"dataframe\">\n",
              "  <thead>\n",
              "    <tr style=\"text-align: right;\">\n",
              "      <th></th>\n",
              "      <th>tweet_id</th>\n",
              "      <th>in_reply_to_status_id</th>\n",
              "      <th>in_reply_to_user_id</th>\n",
              "      <th>timestamp</th>\n",
              "      <th>source</th>\n",
              "      <th>text</th>\n",
              "      <th>retweeted_status_id</th>\n",
              "      <th>retweeted_status_user_id</th>\n",
              "      <th>retweeted_status_timestamp</th>\n",
              "      <th>expanded_urls</th>\n",
              "      <th>rating_numerator</th>\n",
              "      <th>rating_denominator</th>\n",
              "      <th>name</th>\n",
              "      <th>doggo</th>\n",
              "      <th>floofer</th>\n",
              "      <th>pupper</th>\n",
              "      <th>puppo</th>\n",
              "      <th>Stage</th>\n",
              "    </tr>\n",
              "  </thead>\n",
              "  <tbody>\n",
              "    <tr>\n",
              "      <th>775</th>\n",
              "      <td>776201521193218049</td>\n",
              "      <td>NaN</td>\n",
              "      <td>NaN</td>\n",
              "      <td>2016-09-14 23:30:38 +0000</td>\n",
              "      <td>&lt;a href=\"http://twitter.com/download/iphone\" r...</td>\n",
              "      <td>This is O'Malley. That is how he sleeps. Doesn...</td>\n",
              "      <td>NaN</td>\n",
              "      <td>NaN</td>\n",
              "      <td>NaN</td>\n",
              "      <td>https://twitter.com/dog_rates/status/776201521...</td>\n",
              "      <td>10</td>\n",
              "      <td>10</td>\n",
              "      <td>O</td>\n",
              "      <td>None</td>\n",
              "      <td>None</td>\n",
              "      <td>None</td>\n",
              "      <td>None</td>\n",
              "      <td>NaN</td>\n",
              "    </tr>\n",
              "    <tr>\n",
              "      <th>1808</th>\n",
              "      <td>676897532954456065</td>\n",
              "      <td>NaN</td>\n",
              "      <td>NaN</td>\n",
              "      <td>2015-12-15 22:52:02 +0000</td>\n",
              "      <td>&lt;a href=\"http://twitter.com/download/iphone\" r...</td>\n",
              "      <td>Exotic handheld dog here. Appears unathletic. ...</td>\n",
              "      <td>NaN</td>\n",
              "      <td>NaN</td>\n",
              "      <td>NaN</td>\n",
              "      <td>https://twitter.com/dog_rates/status/676897532...</td>\n",
              "      <td>5</td>\n",
              "      <td>10</td>\n",
              "      <td>None</td>\n",
              "      <td>None</td>\n",
              "      <td>None</td>\n",
              "      <td>None</td>\n",
              "      <td>None</td>\n",
              "      <td>NaN</td>\n",
              "    </tr>\n",
              "    <tr>\n",
              "      <th>1930</th>\n",
              "      <td>674038233588723717</td>\n",
              "      <td>NaN</td>\n",
              "      <td>NaN</td>\n",
              "      <td>2015-12-08 01:30:12 +0000</td>\n",
              "      <td>&lt;a href=\"http://twitter.com/download/iphone\" r...</td>\n",
              "      <td>This is Kaiya. She's an aspiring shoe model. 1...</td>\n",
              "      <td>NaN</td>\n",
              "      <td>NaN</td>\n",
              "      <td>NaN</td>\n",
              "      <td>https://twitter.com/dog_rates/status/674038233...</td>\n",
              "      <td>12</td>\n",
              "      <td>10</td>\n",
              "      <td>Kaiya</td>\n",
              "      <td>None</td>\n",
              "      <td>None</td>\n",
              "      <td>pupper</td>\n",
              "      <td>None</td>\n",
              "      <td>pupper</td>\n",
              "    </tr>\n",
              "    <tr>\n",
              "      <th>358</th>\n",
              "      <td>830097400375152640</td>\n",
              "      <td>NaN</td>\n",
              "      <td>NaN</td>\n",
              "      <td>2017-02-10 16:53:37 +0000</td>\n",
              "      <td>&lt;a href=\"http://twitter.com/download/iphone\" r...</td>\n",
              "      <td>Meet Samson. He's absolute fluffy perfection. ...</td>\n",
              "      <td>NaN</td>\n",
              "      <td>NaN</td>\n",
              "      <td>NaN</td>\n",
              "      <td>https://www.gofundme.com/sick-baby-samson,http...</td>\n",
              "      <td>13</td>\n",
              "      <td>10</td>\n",
              "      <td>Samson</td>\n",
              "      <td>None</td>\n",
              "      <td>None</td>\n",
              "      <td>None</td>\n",
              "      <td>None</td>\n",
              "      <td>NaN</td>\n",
              "    </tr>\n",
              "    <tr>\n",
              "      <th>378</th>\n",
              "      <td>827933404142436356</td>\n",
              "      <td>NaN</td>\n",
              "      <td>NaN</td>\n",
              "      <td>2017-02-04 17:34:40 +0000</td>\n",
              "      <td>&lt;a href=\"http://twitter.com/download/iphone\" r...</td>\n",
              "      <td>This is Kona. Yesterday she stopped by the dep...</td>\n",
              "      <td>NaN</td>\n",
              "      <td>NaN</td>\n",
              "      <td>NaN</td>\n",
              "      <td>https://twitter.com/dog_rates/status/827933404...</td>\n",
              "      <td>12</td>\n",
              "      <td>10</td>\n",
              "      <td>Kona</td>\n",
              "      <td>None</td>\n",
              "      <td>None</td>\n",
              "      <td>pupper</td>\n",
              "      <td>None</td>\n",
              "      <td>pupper</td>\n",
              "    </tr>\n",
              "    <tr>\n",
              "      <th>1355</th>\n",
              "      <td>703611486317502464</td>\n",
              "      <td>NaN</td>\n",
              "      <td>NaN</td>\n",
              "      <td>2016-02-27 16:03:45 +0000</td>\n",
              "      <td>&lt;a href=\"http://twitter.com/download/iphone\" r...</td>\n",
              "      <td>Meet Scooter. He's experiencing the pupper equ...</td>\n",
              "      <td>NaN</td>\n",
              "      <td>NaN</td>\n",
              "      <td>NaN</td>\n",
              "      <td>https://twitter.com/dog_rates/status/703611486...</td>\n",
              "      <td>10</td>\n",
              "      <td>10</td>\n",
              "      <td>Scooter</td>\n",
              "      <td>None</td>\n",
              "      <td>None</td>\n",
              "      <td>pupper</td>\n",
              "      <td>None</td>\n",
              "      <td>pupper</td>\n",
              "    </tr>\n",
              "    <tr>\n",
              "      <th>1467</th>\n",
              "      <td>694329668942569472</td>\n",
              "      <td>NaN</td>\n",
              "      <td>NaN</td>\n",
              "      <td>2016-02-02 01:21:07 +0000</td>\n",
              "      <td>&lt;a href=\"http://twitter.com/download/iphone\" r...</td>\n",
              "      <td>Meet Grady. He's very hungry. Too bad no one c...</td>\n",
              "      <td>NaN</td>\n",
              "      <td>NaN</td>\n",
              "      <td>NaN</td>\n",
              "      <td>https://twitter.com/dog_rates/status/694329668...</td>\n",
              "      <td>9</td>\n",
              "      <td>10</td>\n",
              "      <td>Grady</td>\n",
              "      <td>None</td>\n",
              "      <td>None</td>\n",
              "      <td>pupper</td>\n",
              "      <td>None</td>\n",
              "      <td>pupper</td>\n",
              "    </tr>\n",
              "    <tr>\n",
              "      <th>1117</th>\n",
              "      <td>732375214819057664</td>\n",
              "      <td>NaN</td>\n",
              "      <td>NaN</td>\n",
              "      <td>2016-05-17 01:00:32 +0000</td>\n",
              "      <td>&lt;a href=\"http://twitter.com/download/iphone\" r...</td>\n",
              "      <td>This is Kyle (pronounced 'Mitch'). He strives ...</td>\n",
              "      <td>NaN</td>\n",
              "      <td>NaN</td>\n",
              "      <td>NaN</td>\n",
              "      <td>https://twitter.com/dog_rates/status/732375214...</td>\n",
              "      <td>11</td>\n",
              "      <td>10</td>\n",
              "      <td>Kyle</td>\n",
              "      <td>doggo</td>\n",
              "      <td>None</td>\n",
              "      <td>None</td>\n",
              "      <td>None</td>\n",
              "      <td>doggo</td>\n",
              "    </tr>\n",
              "    <tr>\n",
              "      <th>462</th>\n",
              "      <td>817502432452313088</td>\n",
              "      <td>NaN</td>\n",
              "      <td>NaN</td>\n",
              "      <td>2017-01-06 22:45:43 +0000</td>\n",
              "      <td>&lt;a href=\"http://twitter.com/download/iphone\" r...</td>\n",
              "      <td>RT @dog_rates: Meet Herschel. He's slightly bi...</td>\n",
              "      <td>6.924173e+17</td>\n",
              "      <td>4.196984e+09</td>\n",
              "      <td>2016-01-27 18:42:06 +0000</td>\n",
              "      <td>https://twitter.com/dog_rates/status/692417313...</td>\n",
              "      <td>7</td>\n",
              "      <td>10</td>\n",
              "      <td>Herschel</td>\n",
              "      <td>None</td>\n",
              "      <td>None</td>\n",
              "      <td>pupper</td>\n",
              "      <td>None</td>\n",
              "      <td>pupper</td>\n",
              "    </tr>\n",
              "    <tr>\n",
              "      <th>1830</th>\n",
              "      <td>676219687039057920</td>\n",
              "      <td>NaN</td>\n",
              "      <td>NaN</td>\n",
              "      <td>2015-12-14 01:58:31 +0000</td>\n",
              "      <td>&lt;a href=\"http://twitter.com/download/iphone\" r...</td>\n",
              "      <td>This is Kenneth. He's stuck in a bubble. 10/10...</td>\n",
              "      <td>NaN</td>\n",
              "      <td>NaN</td>\n",
              "      <td>NaN</td>\n",
              "      <td>https://twitter.com/dog_rates/status/676219687...</td>\n",
              "      <td>10</td>\n",
              "      <td>10</td>\n",
              "      <td>Kenneth</td>\n",
              "      <td>None</td>\n",
              "      <td>None</td>\n",
              "      <td>None</td>\n",
              "      <td>None</td>\n",
              "      <td>NaN</td>\n",
              "    </tr>\n",
              "  </tbody>\n",
              "</table>\n",
              "</div>"
            ],
            "text/plain": [
              "                tweet_id  in_reply_to_status_id  ...  puppo   Stage\n",
              "775   776201521193218049                    NaN  ...   None     NaN\n",
              "1808  676897532954456065                    NaN  ...   None     NaN\n",
              "1930  674038233588723717                    NaN  ...   None  pupper\n",
              "358   830097400375152640                    NaN  ...   None     NaN\n",
              "378   827933404142436356                    NaN  ...   None  pupper\n",
              "1355  703611486317502464                    NaN  ...   None  pupper\n",
              "1467  694329668942569472                    NaN  ...   None  pupper\n",
              "1117  732375214819057664                    NaN  ...   None   doggo\n",
              "462   817502432452313088                    NaN  ...   None  pupper\n",
              "1830  676219687039057920                    NaN  ...   None     NaN\n",
              "\n",
              "[10 rows x 18 columns]"
            ]
          },
          "metadata": {
            "tags": []
          },
          "execution_count": 192
        }
      ]
    },
    {
      "cell_type": "code",
      "metadata": {
        "id": "OcDd39CbN1e8"
      },
      "source": [
        "C_Archive=C_Archive.drop(columns=['doggo','floofer','pupper','puppo'])"
      ],
      "execution_count": null,
      "outputs": []
    },
    {
      "cell_type": "markdown",
      "metadata": {
        "id": "8A0ma9rDOW2O"
      },
      "source": [
        "**Test:**"
      ]
    },
    {
      "cell_type": "code",
      "metadata": {
        "colab": {
          "base_uri": "https://localhost:8080/"
        },
        "id": "9KdAAOKdOrP4",
        "outputId": "7c2a2c01-0ec7-4708-ba34-b66b55d53e26"
      },
      "source": [
        "C_Archive.Stage.value_counts()"
      ],
      "execution_count": null,
      "outputs": [
        {
          "output_type": "execute_result",
          "data": {
            "text/plain": [
              "pupper     265\n",
              "doggo       93\n",
              "puppo       37\n",
              "floofer      4\n",
              "Name: Stage, dtype: int64"
            ]
          },
          "metadata": {
            "tags": []
          },
          "execution_count": 194
        }
      ]
    },
    {
      "cell_type": "markdown",
      "metadata": {
        "id": "jJb_knbHPMff"
      },
      "source": [
        "2. All data is related but separated into 3 dataframes"
      ]
    },
    {
      "cell_type": "markdown",
      "metadata": {
        "id": "atDzhX_VPZGd"
      },
      "source": [
        "**Define:**"
      ]
    },
    {
      "cell_type": "markdown",
      "metadata": {
        "id": "xvUpc6V-Pcq3"
      },
      "source": [
        "Merge dataframes into 1 dataframe based on Tweet_id"
      ]
    },
    {
      "cell_type": "markdown",
      "metadata": {
        "id": "9uQUfB0KPuAk"
      },
      "source": [
        "**Code:**"
      ]
    },
    {
      "cell_type": "code",
      "metadata": {
        "id": "sN7ouw-HPYCf"
      },
      "source": [
        "C_Archive=pd.merge(C_Archive,C_Predictions,on='tweet_id',how='left')\n",
        "C_Archive=pd.merge(C_Archive,C_TweetData,on='tweet_id',how='left')"
      ],
      "execution_count": null,
      "outputs": []
    },
    {
      "cell_type": "markdown",
      "metadata": {
        "id": "2ojZyVVnRyEY"
      },
      "source": [
        "**Test:**"
      ]
    },
    {
      "cell_type": "code",
      "metadata": {
        "colab": {
          "base_uri": "https://localhost:8080/"
        },
        "id": "f_pp5SyBR1FT",
        "outputId": "a60befa6-0ad4-4703-9706-63f6c21b5819"
      },
      "source": [
        "C_Archive.info()"
      ],
      "execution_count": null,
      "outputs": [
        {
          "output_type": "stream",
          "text": [
            "<class 'pandas.core.frame.DataFrame'>\n",
            "Int64Index: 2356 entries, 0 to 2355\n",
            "Data columns (total 27 columns):\n",
            " #   Column                      Non-Null Count  Dtype  \n",
            "---  ------                      --------------  -----  \n",
            " 0   tweet_id                    2356 non-null   int64  \n",
            " 1   in_reply_to_status_id       78 non-null     float64\n",
            " 2   in_reply_to_user_id         78 non-null     float64\n",
            " 3   timestamp                   2356 non-null   object \n",
            " 4   source                      2356 non-null   object \n",
            " 5   text                        2356 non-null   object \n",
            " 6   retweeted_status_id         181 non-null    float64\n",
            " 7   retweeted_status_user_id    181 non-null    float64\n",
            " 8   retweeted_status_timestamp  181 non-null    object \n",
            " 9   expanded_urls               2297 non-null   object \n",
            " 10  rating_numerator            2356 non-null   int64  \n",
            " 11  rating_denominator          2356 non-null   int64  \n",
            " 12  name                        2356 non-null   object \n",
            " 13  Stage                       399 non-null    object \n",
            " 14  jpg_url                     2075 non-null   object \n",
            " 15  img_num                     2075 non-null   float64\n",
            " 16  p1                          2075 non-null   object \n",
            " 17  p1_conf                     2075 non-null   float64\n",
            " 18  p1_dog                      2075 non-null   object \n",
            " 19  p2                          2075 non-null   object \n",
            " 20  p2_conf                     2075 non-null   float64\n",
            " 21  p2_dog                      2075 non-null   object \n",
            " 22  p3                          2075 non-null   object \n",
            " 23  p3_conf                     2075 non-null   float64\n",
            " 24  p3_dog                      2075 non-null   object \n",
            " 25  favorite_count              2340 non-null   float64\n",
            " 26  retweet_count               2340 non-null   float64\n",
            "dtypes: float64(10), int64(3), object(14)\n",
            "memory usage: 515.4+ KB\n"
          ],
          "name": "stdout"
        }
      ]
    },
    {
      "cell_type": "code",
      "metadata": {
        "colab": {
          "base_uri": "https://localhost:8080/"
        },
        "id": "wkgozQT0R_Dj",
        "outputId": "3a0037ef-21db-4ca3-8818-6698111ae7a2"
      },
      "source": [
        "# C_Predictions dataframe contain jpg_url columns and C_Archive didn't before merge \n",
        "# but after merge C_Archive should have jpg_url columns\n",
        "C_Archive.jpg_url.count()"
      ],
      "execution_count": null,
      "outputs": [
        {
          "output_type": "execute_result",
          "data": {
            "text/plain": [
              "2075"
            ]
          },
          "metadata": {
            "tags": []
          },
          "execution_count": 73
        }
      ]
    },
    {
      "cell_type": "markdown",
      "metadata": {
        "id": "QQqxcm3GTKOd"
      },
      "source": [
        "**Third. Clean Quality:**"
      ]
    },
    {
      "cell_type": "markdown",
      "metadata": {
        "id": "3CeYXQ_tTUfh"
      },
      "source": [
        "1. Timestamp column has dates in string form.\n",
        "\n",
        "\n"
      ]
    },
    {
      "cell_type": "markdown",
      "metadata": {
        "id": "XQtcpjJdVBut"
      },
      "source": [
        "**Define:**"
      ]
    },
    {
      "cell_type": "markdown",
      "metadata": {
        "id": "wmoYf3IUVHPK"
      },
      "source": [
        "Convert invalid datatype  of timestamp column to datatime"
      ]
    },
    {
      "cell_type": "markdown",
      "metadata": {
        "id": "wdmU2UC3XDJC"
      },
      "source": [
        "**Code:**"
      ]
    },
    {
      "cell_type": "code",
      "metadata": {
        "id": "A46_sjKGWsFU"
      },
      "source": [
        "C_Archive.timestamp=pd.to_datetime(C_Archive.timestamp)"
      ],
      "execution_count": null,
      "outputs": []
    },
    {
      "cell_type": "markdown",
      "metadata": {
        "id": "aT0IY6qrXAYr"
      },
      "source": [
        "**Test:**"
      ]
    },
    {
      "cell_type": "code",
      "metadata": {
        "colab": {
          "base_uri": "https://localhost:8080/"
        },
        "id": "bnxd5A3nW_e4",
        "outputId": "786deb75-6118-4304-83bd-d54f15dd60b2"
      },
      "source": [
        "C_Archive.timestamp.head()"
      ],
      "execution_count": null,
      "outputs": [
        {
          "output_type": "execute_result",
          "data": {
            "text/plain": [
              "0   2017-08-01 16:23:56+00:00\n",
              "1   2017-08-01 00:17:27+00:00\n",
              "2   2017-07-31 00:18:03+00:00\n",
              "3   2017-07-30 15:58:51+00:00\n",
              "4   2017-07-29 16:00:24+00:00\n",
              "Name: timestamp, dtype: datetime64[ns, UTC]"
            ]
          },
          "metadata": {
            "tags": []
          },
          "execution_count": 158
        }
      ]
    },
    {
      "cell_type": "markdown",
      "metadata": {
        "id": "btzdWw_oXk55"
      },
      "source": [
        "2. Rating_numerator & Rating_denominator columns should be float.\n"
      ]
    },
    {
      "cell_type": "markdown",
      "metadata": {
        "id": "4HCA36ciXtm6"
      },
      "source": [
        "**Define:**"
      ]
    },
    {
      "cell_type": "markdown",
      "metadata": {
        "id": "IlaRrTWWXwnQ"
      },
      "source": [
        "Convert invalid datatype of Rating_numerator & Rating_denominator columns that should be float\n"
      ]
    },
    {
      "cell_type": "markdown",
      "metadata": {
        "id": "7AybEFboYBca"
      },
      "source": [
        "**Code:**"
      ]
    },
    {
      "cell_type": "code",
      "metadata": {
        "id": "9DWtH160YDgv"
      },
      "source": [
        "C_Archive.rating_numerator=C_Archive.rating_numerator.astype(float)\n",
        "C_Archive.rating_denominator=C_Archive.rating_denominator.astype(float)"
      ],
      "execution_count": null,
      "outputs": []
    },
    {
      "cell_type": "markdown",
      "metadata": {
        "id": "4p-fhHa6Z0jJ"
      },
      "source": [
        "**Test:**"
      ]
    },
    {
      "cell_type": "code",
      "metadata": {
        "colab": {
          "base_uri": "https://localhost:8080/"
        },
        "id": "KdDPDbroZ22e",
        "outputId": "56eb3e1e-a7f0-4bda-ce91-b0df75240641"
      },
      "source": [
        "C_Archive.info()"
      ],
      "execution_count": null,
      "outputs": [
        {
          "output_type": "stream",
          "text": [
            "<class 'pandas.core.frame.DataFrame'>\n",
            "Int64Index: 2356 entries, 0 to 2355\n",
            "Data columns (total 27 columns):\n",
            " #   Column                      Non-Null Count  Dtype              \n",
            "---  ------                      --------------  -----              \n",
            " 0   tweet_id                    2356 non-null   int64              \n",
            " 1   in_reply_to_status_id       78 non-null     float64            \n",
            " 2   in_reply_to_user_id         78 non-null     float64            \n",
            " 3   timestamp                   2356 non-null   datetime64[ns, UTC]\n",
            " 4   source                      2356 non-null   object             \n",
            " 5   text                        2356 non-null   object             \n",
            " 6   retweeted_status_id         181 non-null    float64            \n",
            " 7   retweeted_status_user_id    181 non-null    float64            \n",
            " 8   retweeted_status_timestamp  181 non-null    object             \n",
            " 9   expanded_urls               2297 non-null   object             \n",
            " 10  rating_numerator            2356 non-null   float64            \n",
            " 11  rating_denominator          2356 non-null   float64            \n",
            " 12  name                        2356 non-null   object             \n",
            " 13  Stage                       399 non-null    object             \n",
            " 14  jpg_url                     2075 non-null   object             \n",
            " 15  img_num                     2075 non-null   float64            \n",
            " 16  p1                          2075 non-null   object             \n",
            " 17  p1_conf                     2075 non-null   float64            \n",
            " 18  p1_dog                      2075 non-null   object             \n",
            " 19  p2                          2075 non-null   object             \n",
            " 20  p2_conf                     2075 non-null   float64            \n",
            " 21  p2_dog                      2075 non-null   object             \n",
            " 22  p3                          2075 non-null   object             \n",
            " 23  p3_conf                     2075 non-null   float64            \n",
            " 24  p3_dog                      2075 non-null   object             \n",
            " 25  favorite_count              2340 non-null   float64            \n",
            " 26  retweet_count               2340 non-null   float64            \n",
            "dtypes: datetime64[ns, UTC](1), float64(12), int64(1), object(13)\n",
            "memory usage: 515.4+ KB\n"
          ],
          "name": "stdout"
        }
      ]
    },
    {
      "cell_type": "markdown",
      "metadata": {
        "id": "57n6JrXXaN79"
      },
      "source": [
        "3. Row 313 has 0 denominator"
      ]
    },
    {
      "cell_type": "markdown",
      "metadata": {
        "id": "cj_XyDzuaNxw"
      },
      "source": [
        "**Define:**"
      ]
    },
    {
      "cell_type": "markdown",
      "metadata": {
        "id": "Zok5-zd0aYS5"
      },
      "source": [
        "Manual fix entry 313 has rating_denominator 0 replace to 10 "
      ]
    },
    {
      "cell_type": "markdown",
      "metadata": {
        "id": "UuCYjwAdlYWr"
      },
      "source": [
        "**Code:**"
      ]
    },
    {
      "cell_type": "code",
      "metadata": {
        "colab": {
          "base_uri": "https://localhost:8080/"
        },
        "id": "RYWZphJtb-3s",
        "outputId": "4d5166e7-813a-4776-f291-5869a38eb5eb"
      },
      "source": [
        "#check tweet id of entry 313:\n",
        "Archive.tweet_id[313]"
      ],
      "execution_count": null,
      "outputs": [
        {
          "output_type": "execute_result",
          "data": {
            "text/plain": [
              "835246439529840640"
            ]
          },
          "metadata": {
            "tags": []
          },
          "execution_count": 84
        }
      ]
    },
    {
      "cell_type": "code",
      "metadata": {
        "id": "V53WeUUGcyq9"
      },
      "source": [
        "C_Archive.loc[313,'rating_denominator'] = 10"
      ],
      "execution_count": null,
      "outputs": []
    },
    {
      "cell_type": "markdown",
      "metadata": {
        "id": "o5OuNv7ClsBY"
      },
      "source": [
        "**Test:**"
      ]
    },
    {
      "cell_type": "code",
      "metadata": {
        "colab": {
          "base_uri": "https://localhost:8080/"
        },
        "id": "i11wnZPmlvV9",
        "outputId": "403fa4de-4e0d-4be7-af4c-58d4aa71481c"
      },
      "source": [
        "C_Archive.rating_denominator[313]"
      ],
      "execution_count": null,
      "outputs": [
        {
          "output_type": "execute_result",
          "data": {
            "text/plain": [
              "10.0"
            ]
          },
          "metadata": {
            "tags": []
          },
          "execution_count": 102
        }
      ]
    },
    {
      "cell_type": "markdown",
      "metadata": {
        "id": "eyvavXESl96L"
      },
      "source": [
        "4. Not all tweets contain photos.(2075 entries of 2356)"
      ]
    },
    {
      "cell_type": "markdown",
      "metadata": {
        "id": "w0nsN6DGmChg"
      },
      "source": [
        "**Define:**"
      ]
    },
    {
      "cell_type": "markdown",
      "metadata": {
        "id": "BC4pLVCMminR"
      },
      "source": [
        "Drop all tweets that doesn't contain pictures of dogs"
      ]
    },
    {
      "cell_type": "markdown",
      "metadata": {
        "id": "tnRFP9M6mcMT"
      },
      "source": [
        "**Code:**"
      ]
    },
    {
      "cell_type": "code",
      "metadata": {
        "id": "vGpYFCqFmbjN"
      },
      "source": [
        "C_Archive=C_Archive[C_Archive.jpg_url.notnull()]"
      ],
      "execution_count": null,
      "outputs": []
    },
    {
      "cell_type": "markdown",
      "metadata": {
        "id": "Qawi3WzYnBjY"
      },
      "source": [
        "**Test:**"
      ]
    },
    {
      "cell_type": "code",
      "metadata": {
        "colab": {
          "base_uri": "https://localhost:8080/"
        },
        "id": "EpjptFyFnEPv",
        "outputId": "4e11c837-7569-484b-9dc0-3d278729c1c4"
      },
      "source": [
        "C_Archive.info()"
      ],
      "execution_count": null,
      "outputs": [
        {
          "output_type": "stream",
          "text": [
            "<class 'pandas.core.frame.DataFrame'>\n",
            "Int64Index: 2075 entries, 0 to 2355\n",
            "Data columns (total 27 columns):\n",
            " #   Column                      Non-Null Count  Dtype              \n",
            "---  ------                      --------------  -----              \n",
            " 0   tweet_id                    2075 non-null   float64            \n",
            " 1   in_reply_to_status_id       23 non-null     float64            \n",
            " 2   in_reply_to_user_id         23 non-null     float64            \n",
            " 3   timestamp                   2075 non-null   datetime64[ns, UTC]\n",
            " 4   source                      2075 non-null   object             \n",
            " 5   text                        2075 non-null   object             \n",
            " 6   retweeted_status_id         81 non-null     float64            \n",
            " 7   retweeted_status_user_id    81 non-null     float64            \n",
            " 8   retweeted_status_timestamp  81 non-null     object             \n",
            " 9   expanded_urls               2075 non-null   object             \n",
            " 10  rating_numerator            2075 non-null   float64            \n",
            " 11  rating_denominator          2075 non-null   float64            \n",
            " 12  name                        2075 non-null   object             \n",
            " 13  Stage                       338 non-null    object             \n",
            " 14  jpg_url                     2075 non-null   object             \n",
            " 15  img_num                     2075 non-null   float64            \n",
            " 16  p1                          2075 non-null   object             \n",
            " 17  p1_conf                     2075 non-null   float64            \n",
            " 18  p1_dog                      2075 non-null   object             \n",
            " 19  p2                          2075 non-null   object             \n",
            " 20  p2_conf                     2075 non-null   float64            \n",
            " 21  p2_dog                      2075 non-null   object             \n",
            " 22  p3                          2075 non-null   object             \n",
            " 23  p3_conf                     2075 non-null   float64            \n",
            " 24  p3_dog                      2075 non-null   object             \n",
            " 25  favorite_count              2067 non-null   float64            \n",
            " 26  retweet_count               2067 non-null   float64            \n",
            "dtypes: datetime64[ns, UTC](1), float64(13), object(13)\n",
            "memory usage: 453.9+ KB\n"
          ],
          "name": "stdout"
        }
      ]
    },
    {
      "cell_type": "markdown",
      "metadata": {
        "id": "V2Imgxy1n6jL"
      },
      "source": [
        "5. underscores are used in many names in columns p1,p2,p3 instead of spaces."
      ]
    },
    {
      "cell_type": "markdown",
      "metadata": {
        "id": "PoW7qikOoJSO"
      },
      "source": [
        "**Define:**"
      ]
    },
    {
      "cell_type": "markdown",
      "metadata": {
        "id": "9aSDcCO9oNQI"
      },
      "source": [
        "replace names that contain underscores to spaces"
      ]
    },
    {
      "cell_type": "markdown",
      "metadata": {
        "id": "Em9oksSYorgs"
      },
      "source": [
        "**Code:**"
      ]
    },
    {
      "cell_type": "code",
      "metadata": {
        "id": "B3xaioOhotU5"
      },
      "source": [
        "C_Archive.p1=C_Archive.p1.str.replace('_',' ')\n",
        "C_Archive.p2=C_Archive.p2.str.replace('_',' ')\n",
        "C_Archive.p3=C_Archive.p3.str.replace('_',' ')"
      ],
      "execution_count": null,
      "outputs": []
    },
    {
      "cell_type": "markdown",
      "metadata": {
        "id": "ztZy3CY6p4oF"
      },
      "source": [
        "**Test:**"
      ]
    },
    {
      "cell_type": "code",
      "metadata": {
        "colab": {
          "base_uri": "https://localhost:8080/"
        },
        "id": "1-k7amZOpZ2Q",
        "outputId": "e6e5fe86-0aa8-4a87-d9e8-f1694ccb1c5a"
      },
      "source": [
        "C_Archive.p1.head()"
      ],
      "execution_count": null,
      "outputs": [
        {
          "output_type": "execute_result",
          "data": {
            "text/plain": [
              "0         orange\n",
              "1      Chihuahua\n",
              "2      Chihuahua\n",
              "3    paper towel\n",
              "4         basset\n",
              "Name: p1, dtype: object"
            ]
          },
          "metadata": {
            "tags": []
          },
          "execution_count": 111
        }
      ]
    },
    {
      "cell_type": "code",
      "metadata": {
        "colab": {
          "base_uri": "https://localhost:8080/"
        },
        "id": "2So1RI9Ppsoq",
        "outputId": "8ffa49f1-e46e-402b-c414-9a989f97b1c2"
      },
      "source": [
        "C_Archive.p2.sample(3)"
      ],
      "execution_count": null,
      "outputs": [
        {
          "output_type": "execute_result",
          "data": {
            "text/plain": [
              "1174     redbone\n",
              "2203         pug\n",
              "1694    Pekinese\n",
              "Name: p2, dtype: object"
            ]
          },
          "metadata": {
            "tags": []
          },
          "execution_count": 112
        }
      ]
    },
    {
      "cell_type": "code",
      "metadata": {
        "colab": {
          "base_uri": "https://localhost:8080/"
        },
        "id": "b1gk9rWopyaD",
        "outputId": "a8ff5c94-add8-4a00-884a-fdde7a9dacdf"
      },
      "source": [
        "C_Archive.p3.head()"
      ],
      "execution_count": null,
      "outputs": [
        {
          "output_type": "execute_result",
          "data": {
            "text/plain": [
              "0                         banana\n",
              "1                       papillon\n",
              "2                         kelpie\n",
              "3                        spatula\n",
              "4    German short-haired pointer\n",
              "Name: p3, dtype: object"
            ]
          },
          "metadata": {
            "tags": []
          },
          "execution_count": 113
        }
      ]
    },
    {
      "cell_type": "markdown",
      "metadata": {
        "id": "HZFQI-CJp71a"
      },
      "source": [
        "6. Not all tweets didn't include the dog's name correctly. ex(rows:570,2065,310 name = None & row:759 name = an)\n"
      ]
    },
    {
      "cell_type": "markdown",
      "metadata": {
        "id": "35oHgZpHqEp9"
      },
      "source": [
        "**Define:**"
      ]
    },
    {
      "cell_type": "markdown",
      "metadata": {
        "id": "12xoYZurE2RP"
      },
      "source": [
        "Replace invalid names to none value"
      ]
    },
    {
      "cell_type": "markdown",
      "metadata": {
        "id": "CZFEYKgfFA40"
      },
      "source": [
        "**Code:**"
      ]
    },
    {
      "cell_type": "code",
      "metadata": {
        "colab": {
          "base_uri": "https://localhost:8080/"
        },
        "id": "96Kd7W0XDLlt",
        "outputId": "c3e000e2-17c6-43c6-b002-0c10adc7855a"
      },
      "source": [
        "C_Archive[C_Archive.name.str.islower()==True]['name'].unique()"
      ],
      "execution_count": null,
      "outputs": [
        {
          "output_type": "execute_result",
          "data": {
            "text/plain": [
              "array(['such', 'a', 'quite', 'not', 'one', 'incredibly', 'mad', 'an',\n",
              "       'very', 'just', 'my', 'his', 'actually', 'getting', 'this',\n",
              "       'unacceptable', 'all', 'old', 'infuriating', 'the', 'by',\n",
              "       'officially', 'life', 'light', 'space'], dtype=object)"
            ]
          },
          "metadata": {
            "tags": []
          },
          "execution_count": 146
        }
      ]
    },
    {
      "cell_type": "code",
      "metadata": {
        "id": "kC_A50SnDYqK"
      },
      "source": [
        "Invalid_word = ['such', 'a', 'quite', 'not', 'one', 'incredibly', 'mad', 'an',\n",
        "              'very', 'just', 'my', 'his', 'actually', 'getting', 'this',\n",
        "              'unacceptable', 'all', 'old', 'infuriating', 'the', 'by',\n",
        "              'officially', 'life', 'light', 'space']\n",
        "for x in Invalid_word:\n",
        "    C_Archive.name.replace(x, 'None',inplace=True)"
      ],
      "execution_count": null,
      "outputs": []
    },
    {
      "cell_type": "markdown",
      "metadata": {
        "id": "twBYnsa2FZfv"
      },
      "source": [
        "**Test:**"
      ]
    },
    {
      "cell_type": "code",
      "metadata": {
        "colab": {
          "base_uri": "https://localhost:8080/"
        },
        "id": "Fr8Ypva7EALH",
        "outputId": "b7b9c98a-ad6a-4523-9739-31d7ca4a7af2"
      },
      "source": [
        "C_Archive.name.unique()"
      ],
      "execution_count": null,
      "outputs": [
        {
          "output_type": "execute_result",
          "data": {
            "text/plain": [
              "array(['Phineas', 'Tilly', 'Archie', 'Darla', 'Franklin', 'None', 'Jax',\n",
              "       'Zoey', 'Cassie', 'Koda', 'Bruno', 'Ted', 'Stuart', 'Oliver',\n",
              "       'Jim', 'Zeke', 'Ralphus', 'Canela', 'Gerald', 'Jeffrey', 'Maya',\n",
              "       'Mingus', 'Derek', 'Roscoe', 'Waffles', 'Jimbo', 'Maisey', 'Lilly',\n",
              "       'Earl', 'Lola', 'Kevin', 'Yogi', 'Noah', 'Bella', 'Grizzwald',\n",
              "       'Rusty', 'Gus', 'Stanley', 'Alfy', 'Koko', 'Rey', 'Gary', 'Elliot',\n",
              "       'Louis', 'Jesse', 'Romeo', 'Bailey', 'Duddles', 'Jack', 'Emmy',\n",
              "       'Steven', 'Beau', 'Snoopy', 'Shadow', 'Terrance', 'Aja', 'Penny',\n",
              "       'Dante', 'Nelly', 'Ginger', 'Benedict', 'Venti', 'Goose', 'Nugget',\n",
              "       'Cash', 'Coco', 'Jed', 'Sebastian', 'Walter', 'Sierra', 'Monkey',\n",
              "       'Harry', 'Kody', 'Lassie', 'Rover', 'Napolean', 'Dawn', 'Boomer',\n",
              "       'Cody', 'Rumble', 'Clifford', 'Dewey', 'Scout', 'Gizmo', 'Cooper',\n",
              "       'Harold', 'Shikha', 'Jamesy', 'Lili', 'Sammy', 'Meatball',\n",
              "       'Paisley', 'Albus', 'Neptune', 'Quinn', 'Belle', 'Zooey', 'Dave',\n",
              "       'Jersey', 'Hobbes', 'Burt', 'Lorenzo', 'Carl', 'Jordy', 'Milky',\n",
              "       'Trooper', 'Winston', 'Sophie', 'Wyatt', 'Rosie', 'Thor', 'Oscar',\n",
              "       'Luna', 'Callie', 'Cermet', 'George', 'Marlee', 'Arya', 'Einstein',\n",
              "       'Alice', 'Rumpole', 'Benny', 'Aspen', 'Jarod', 'Wiggles',\n",
              "       'General', 'Sailor', 'Astrid', 'Iggy', 'Snoop', 'Kyle', 'Leo',\n",
              "       'Riley', 'Gidget', 'Noosh', 'Odin', 'Jerry', 'Charlie', 'Georgie',\n",
              "       'Rontu', 'Cannon', 'Furzey', 'Daisy', 'Tuck', 'Barney', 'Vixen',\n",
              "       'Jarvis', 'Mimosa', 'Pickles', 'Bungalo', 'Brady', 'Margo',\n",
              "       'Sadie', 'Hank', 'Tycho', 'Stephan', 'Indie', 'Winnie', 'Bentley',\n",
              "       'Ken', 'Max', 'Maddie', 'Pipsy', 'Monty', 'Sojourner', 'Odie',\n",
              "       'Arlo', 'Sunny', 'Vincent', 'Lucy', 'Clark', 'Mookie', 'Meera',\n",
              "       'Buddy', 'Ava', 'Rory', 'Eli', 'Ash', 'Tucker', 'Tobi', 'Chester',\n",
              "       'Wilson', 'Sunshine', 'Lipton', 'Gabby', 'Bronte', 'Poppy',\n",
              "       'Rhino', 'Willow', 'Orion', 'Eevee', 'Smiley', 'Logan', 'Moreton',\n",
              "       'Klein', 'Miguel', 'Emanuel', 'Kuyu', 'Dutch', 'Pete', 'Scooter',\n",
              "       'Reggie', 'Kyro', 'Samson', 'Loki', 'Mia', 'Malcolm', 'Dexter',\n",
              "       'Alfie', 'Fiona', 'Mutt', 'Bear', 'Doobert', 'Beebop', 'Alexander',\n",
              "       'Sailer', 'Brutus', 'Kona', 'Boots', 'Ralphie', 'Phil', 'Cupid',\n",
              "       'Pawnd', 'Pilot', 'Ike', 'Mo', 'Toby', 'Sweet', 'Pablo', 'Nala',\n",
              "       'Balto', 'Crawford', 'Gabe', 'Mattie', 'Jimison', 'Hercules',\n",
              "       'Duchess', 'Harlso', 'Sampson', 'Sundance', 'Luca', 'Flash',\n",
              "       'Finn', 'Peaches', 'Howie', 'Jazzy', 'Anna', 'Bo', 'Seamus',\n",
              "       'Wafer', 'Chelsea', 'Tom', 'Moose', 'Florence', 'Autumn', 'Dido',\n",
              "       'Eugene', 'Herschel', 'Strudel', 'Tebow', 'Chloe', 'Betty',\n",
              "       'Timber', 'Binky', 'Dudley', 'Comet', 'Larry', 'Levi', 'Akumi',\n",
              "       'Titan', 'Olivia', 'Alf', 'Oshie', 'Bruce', 'Chubbs', 'Sky',\n",
              "       'Atlas', 'Eleanor', 'Layla', 'Rocky', 'Baron', 'Tyr', 'Bauer',\n",
              "       'Swagger', 'Brandi', 'Mary', 'Moe', 'Halo', 'Augie', 'Craig',\n",
              "       'Sam', 'Hunter', 'Pavlov', 'Maximus', 'Wallace', 'Ito', 'Milo',\n",
              "       'Ollie', 'Cali', 'Lennon', 'Major', 'Duke', 'Reginald', 'Sansa',\n",
              "       'Shooter', 'Django', 'Diogi', 'Sonny', 'Philbert', 'Marley',\n",
              "       'Severus', 'Ronnie', 'Anakin', 'Bones', 'Mauve', 'Chef', 'Doc',\n",
              "       'Sobe', 'Longfellow', 'Mister', 'Iroh', 'Baloo', 'Stubert',\n",
              "       'Paull', 'Timison', 'Davey', 'Pancake', 'Tyrone', 'Snicku', 'Ruby',\n",
              "       'Brody', 'Rizzy', 'Mack', 'Butter', 'Nimbus', 'Laika', 'Dobby',\n",
              "       'Juno', 'Maude', 'Lily', 'Newt', 'Benji', 'Nida', 'Robin',\n",
              "       'Monster', 'BeBe', 'Remus', 'Mabel', 'Misty', 'Happy', 'Mosby',\n",
              "       'Maggie', 'Leela', 'Ralphy', 'Brownie', 'Meyer', 'Stella', 'Frank',\n",
              "       'Tonks', 'Lincoln', 'Oakley', 'Dale', 'Rizzo', 'Arnie', 'Pinot',\n",
              "       'Dallas', 'Hero', 'Frankie', 'Stormy', 'Mairi', 'Loomis', 'Godi',\n",
              "       'Kenny', 'Deacon', 'Timmy', 'Harper', 'Chipson', 'Combo', 'Dash',\n",
              "       'Bell', 'Hurley', 'Jay', 'Mya', 'Strider', 'Wesley', 'Solomon',\n",
              "       'Huck', 'O', 'Blue', 'Finley', 'Sprinkles', 'Heinrich',\n",
              "       'Shakespeare', 'Fizz', 'Chip', 'Grey', 'Roosevelt', 'Gromit',\n",
              "       'Willem', 'Dakota', 'Dixie', 'Al', 'Jackson', 'Carbon', 'DonDon',\n",
              "       'Kirby', 'Lou', 'Nollie', 'Chevy', 'Tito', 'Louie', 'Rupert',\n",
              "       'Rufus', 'Brudge', 'Shadoe', 'Colby', 'Angel', 'Brat', 'Tove',\n",
              "       'Aubie', 'Kota', 'Eve', 'Glenn', 'Shelby', 'Sephie', 'Bonaparte',\n",
              "       'Albert', 'Wishes', 'Rose', 'Theo', 'Rocco', 'Fido', 'Emma',\n",
              "       'Spencer', 'Lilli', 'Boston', 'Brandonald', 'Corey', 'Leonard',\n",
              "       'Chompsky', 'Beckham', 'Devón', 'Gert', 'Watson', 'Rubio', 'Keith',\n",
              "       'Dex', 'Carly', 'Ace', 'Tayzie', 'Grizzie', 'Fred', 'Gilbert',\n",
              "       'Zoe', 'Stewie', 'Calvin', 'Lilah', 'Spanky', 'Jameson', 'Piper',\n",
              "       'Atticus', 'Blu', 'Dietrich', 'Divine', 'Tripp', 'Cora', 'Huxley',\n",
              "       'Keurig', 'Bookstore', 'Linus', 'Abby', 'Shaggy', 'Shiloh',\n",
              "       'Gustav', 'Arlen', 'Percy', 'Lenox', 'Sugar', 'Harvey', 'Blanket',\n",
              "       'Geno', 'Stark', 'Beya', 'Kilo', 'Kayla', 'Maxaroni', 'Doug',\n",
              "       'Edmund', 'Aqua', 'Theodore', 'Chase', 'Rorie', 'Simba', 'Charles',\n",
              "       'Bayley', 'Axel', 'Storkson', 'Remy', 'Chadrick', 'Kellogg',\n",
              "       'Buckley', 'Livvie', 'Terry', 'Hermione', 'Ralpher', 'Aldrick',\n",
              "       'Rooney', 'Crystal', 'Ziva', 'Stefan', 'Pupcasso', 'Puff',\n",
              "       'Flurpson', 'Coleman', 'Enchilada', 'Raymond', 'Rueben',\n",
              "       'Cilantro', 'Karll', 'Sprout', 'Blitz', 'Bloop', 'Lillie',\n",
              "       'Ashleigh', 'Kreggory', 'Sarge', 'Luther', 'Ivar', 'Jangle',\n",
              "       'Schnitzel', 'Panda', 'Berkeley', 'Ralphé', 'Charleson', 'Clyde',\n",
              "       'Harnold', 'Sid', 'Pippa', 'Otis', 'Carper', 'Bowie',\n",
              "       'Alexanderson', 'Suki', 'Barclay', 'Skittle', 'Ebby', 'Flávio',\n",
              "       'Smokey', 'Link', 'Jennifur', 'Ozzy', 'Bluebert', 'Stephanus',\n",
              "       'Bubbles', 'Zeus', 'Bertson', 'Nico', 'Michelangelope', 'Siba',\n",
              "       'Calbert', 'Curtis', 'Travis', 'Thumas', 'Kanu', 'Lance', 'Opie',\n",
              "       'Kane', 'Olive', 'Chuckles', 'Staniel', 'Sora', 'Beemo', 'Gunner',\n",
              "       'Lacy', 'Tater', 'Olaf', 'Cecil', 'Vince', 'Karma', 'Billy',\n",
              "       'Walker', 'Rodney', 'Klevin', 'Malikai', 'Bobble', 'River',\n",
              "       'Jebberson', 'Remington', 'Farfle', 'Jiminus', 'Clarkus',\n",
              "       'Finnegus', 'Cupcake', 'Kathmandu', 'Ellie', 'Katie', 'Kara',\n",
              "       'Adele', 'Zara', 'Ambrose', 'Jimothy', 'Bode', 'Terrenth', 'Reese',\n",
              "       'Chesterson', 'Lucia', 'Bisquick', 'Ralphson', 'Socks', 'Rambo',\n",
              "       'Rudy', 'Fiji', 'Rilo', 'Bilbo', 'Coopson', 'Yoda', 'Millie',\n",
              "       'Chet', 'Crouton', 'Daniel', 'Kaia', 'Murphy', 'Dotsy', 'Eazy',\n",
              "       'Coops', 'Fillup', 'Miley', 'Charl', 'Reagan', 'Yukon', 'CeCe',\n",
              "       'Cuddles', 'Claude', 'Jessiga', 'Carter', 'Ole', 'Pherb',\n",
              "       'Blipson', 'Reptar', 'Trevith', 'Berb', 'Bob', 'Colin', 'Brian',\n",
              "       'Oliviér', 'Grady', 'Kobe', 'Freddery', 'Bodie', 'Dunkin', 'Wally',\n",
              "       'Tupawc', 'Amber', 'Edgar', 'Teddy', 'Kingsley', 'Brockly',\n",
              "       'Richie', 'Molly', 'Vinscent', 'Cedrick', 'Hazel', 'Lolo', 'Eriq',\n",
              "       'Phred', 'Oddie', 'Maxwell', 'Geoff', 'Covach', 'Durg', 'Fynn',\n",
              "       'Ricky', 'Herald', 'Lucky', 'Ferg', 'Trip', 'Clarence', 'Hamrick',\n",
              "       'Brad', 'Pubert', 'Frönq', 'Derby', 'Lizzie', 'Ember', 'Blakely',\n",
              "       'Opal', 'Marq', 'Kramer', 'Barry', 'Gordon', 'Baxter', 'Mona',\n",
              "       'Horace', 'Crimson', 'Birf', 'Hammond', 'Lorelei', 'Marty',\n",
              "       'Brooks', 'Petrick', 'Hubertson', 'Gerbald', 'Oreo', 'Bruiser',\n",
              "       'Perry', 'Bobby', 'Jeph', 'Obi', 'Tino', 'Kulet', 'Sweets', 'Lupe',\n",
              "       'Tiger', 'Jiminy', 'Griffin', 'Banjo', 'Brandy', 'Lulu', 'Darrel',\n",
              "       'Taco', 'Joey', 'Patrick', 'Kreg', 'Todo', 'Tess', 'Ulysses',\n",
              "       'Toffee', 'Apollo', 'Asher', 'Glacier', 'Chuck', 'Champ', 'Ozzie',\n",
              "       'Griswold', 'Cheesy', 'Moofasa', 'Hector', 'Goliath', 'Kawhi',\n",
              "       'Emmie', 'Penelope', 'Willie', 'Rinna', 'Mike', 'William',\n",
              "       'Dwight', 'Evy', 'Rascal', 'Linda', 'Tug', 'Tango', 'Grizz',\n",
              "       'Jerome', 'Crumpet', 'Jessifer', 'Izzy', 'Ralph', 'Sandy',\n",
              "       'Humphrey', 'Tassy', 'Juckson', 'Chuq', 'Tyrus', 'Karl',\n",
              "       'Godzilla', 'Vinnie', 'Kenneth', 'Herm', 'Bert', 'Striker',\n",
              "       'Donny', 'Pepper', 'Bernie', 'Buddah', 'Lenny', 'Arnold', 'Zuzu',\n",
              "       'Mollie', 'Laela', 'Tedders', 'Superpup', 'Rufio', 'Jeb', 'Rodman',\n",
              "       'Jonah', 'Chesney', 'Henry', 'Bobbay', 'Mitch', 'Kaiya', 'Acro',\n",
              "       'Aiden', 'Obie', 'Dot', 'Shnuggles', 'Kendall', 'Jeffri', 'Steve',\n",
              "       'Mac', 'Fletcher', 'Kenzie', 'Pumpkin', 'Schnozz', 'Gustaf',\n",
              "       'Cheryl', 'Ed', 'Leonidas', 'Norman', 'Caryl', 'Scott', 'Taz',\n",
              "       'Darby', 'Jackie', 'Jazz', 'Franq', 'Pippin', 'Rolf', 'Snickers',\n",
              "       'Ridley', 'Cal', 'Bradley', 'Bubba', 'Tuco', 'Patch', 'Mojo',\n",
              "       'Batdog', 'Dylan', 'Mark', 'JD', 'Alejandro', 'Scruffers', 'Pip',\n",
              "       'Julius', 'Tanner', 'Sparky', 'Anthony', 'Holly', 'Jett', 'Amy',\n",
              "       'Sage', 'Andy', 'Mason', 'Trigger', 'Antony', 'Creg', 'Traviss',\n",
              "       'Gin', 'Jeffrie', 'Danny', 'Ester', 'Pluto', 'Bloo', 'Edd',\n",
              "       'Willy', 'Herb', 'Damon', 'Peanut', 'Nigel', 'Butters', 'Sandra',\n",
              "       'Fabio', 'Randall', 'Liam', 'Tommy', 'Ben', 'Raphael', 'Julio',\n",
              "       'Andru', 'Kloey', 'Shawwn', 'Skye', 'Kollin', 'Ronduh', 'Billl',\n",
              "       'Saydee', 'Dug', 'Tessa', 'Sully', 'Kirk', 'Ralf', 'Clarq',\n",
              "       'Jaspers', 'Samsom', 'Harrison', 'Chaz', 'Jeremy', 'Jaycob',\n",
              "       'Lambeau', 'Ruffles', 'Amélie', 'Bobb', 'Banditt', 'Kevon',\n",
              "       'Winifred', 'Hanz', 'Churlie', 'Zeek', 'Timofy', 'Maks',\n",
              "       'Jomathan', 'Kallie', 'Marvin', 'Spark', 'Gòrdón', 'Jo', 'DayZ',\n",
              "       'Jareld', 'Torque', 'Ron', 'Skittles', 'Cleopatricia', 'Erik',\n",
              "       'Stu', 'Tedrick', 'Filup', 'Kial', 'Naphaniel', 'Dook', 'Hall',\n",
              "       'Philippe', 'Biden', 'Fwed', 'Genevieve', 'Joshwa', 'Bradlay',\n",
              "       'Clybe', 'Keet', 'Carll', 'Jockson', 'Josep', 'Lugan',\n",
              "       'Christoper'], dtype=object)"
            ]
          },
          "metadata": {
            "tags": []
          },
          "execution_count": 149
        }
      ]
    },
    {
      "cell_type": "markdown",
      "metadata": {
        "id": "VKq32rTUHPxz"
      },
      "source": [
        "7. There are 78 reply tweets"
      ]
    },
    {
      "cell_type": "markdown",
      "metadata": {
        "id": "O3mBjlGQHW64"
      },
      "source": [
        "**Define:**"
      ]
    },
    {
      "cell_type": "markdown",
      "metadata": {
        "id": "2rshvT46HZrL"
      },
      "source": [
        "Drop all rows that are replies, those that have non-null values in these columns: in_reply_to_status_id and in_reply_to_user_id.\n",
        "\n"
      ]
    },
    {
      "cell_type": "markdown",
      "metadata": {
        "id": "_js51jlZHh5x"
      },
      "source": [
        "**Code:**"
      ]
    },
    {
      "cell_type": "code",
      "metadata": {
        "colab": {
          "base_uri": "https://localhost:8080/"
        },
        "id": "ZxMUFYyFGOp-",
        "outputId": "b455e286-dcc7-4a8d-aea4-67e26d1e5011"
      },
      "source": [
        "print(\"# of replies:  {}\".format(sum(C_Archive.in_reply_to_status_id.notnull())))\n"
      ],
      "execution_count": null,
      "outputs": [
        {
          "output_type": "stream",
          "text": [
            "# of replies:  78\n"
          ],
          "name": "stdout"
        }
      ]
    },
    {
      "cell_type": "code",
      "metadata": {
        "id": "eXvgjjQrGbDM"
      },
      "source": [
        "C_Archive = C_Archive[C_Archive.in_reply_to_status_id.isna()]\n"
      ],
      "execution_count": null,
      "outputs": []
    },
    {
      "cell_type": "markdown",
      "metadata": {
        "id": "qNBakzpqHnYh"
      },
      "source": [
        "**Test:**"
      ]
    },
    {
      "cell_type": "code",
      "metadata": {
        "colab": {
          "base_uri": "https://localhost:8080/"
        },
        "id": "_Op_VaNKGg1r",
        "outputId": "f9f43d02-6fd3-4cf3-a639-c23c8462793b"
      },
      "source": [
        "C_Archive.info()\n"
      ],
      "execution_count": null,
      "outputs": [
        {
          "output_type": "stream",
          "text": [
            "<class 'pandas.core.frame.DataFrame'>\n",
            "Int64Index: 2278 entries, 0 to 2355\n",
            "Data columns (total 27 columns):\n",
            " #   Column                      Non-Null Count  Dtype              \n",
            "---  ------                      --------------  -----              \n",
            " 0   tweet_id                    2278 non-null   int64              \n",
            " 1   in_reply_to_status_id       0 non-null      float64            \n",
            " 2   in_reply_to_user_id         0 non-null      float64            \n",
            " 3   timestamp                   2278 non-null   datetime64[ns, UTC]\n",
            " 4   source                      2278 non-null   object             \n",
            " 5   text                        2278 non-null   object             \n",
            " 6   retweeted_status_id         181 non-null    float64            \n",
            " 7   retweeted_status_user_id    181 non-null    float64            \n",
            " 8   retweeted_status_timestamp  181 non-null    object             \n",
            " 9   expanded_urls               2274 non-null   object             \n",
            " 10  rating_numerator            2278 non-null   int64              \n",
            " 11  rating_denominator          2278 non-null   int64              \n",
            " 12  name                        2278 non-null   object             \n",
            " 13  Stage                       388 non-null    object             \n",
            " 14  jpg_url                     2052 non-null   object             \n",
            " 15  img_num                     2052 non-null   float64            \n",
            " 16  p1                          2052 non-null   object             \n",
            " 17  p1_conf                     2052 non-null   float64            \n",
            " 18  p1_dog                      2052 non-null   object             \n",
            " 19  p2                          2052 non-null   object             \n",
            " 20  p2_conf                     2052 non-null   float64            \n",
            " 21  p2_dog                      2052 non-null   object             \n",
            " 22  p3                          2052 non-null   object             \n",
            " 23  p3_conf                     2052 non-null   float64            \n",
            " 24  p3_dog                      2052 non-null   object             \n",
            " 25  favorite_count              2262 non-null   float64            \n",
            " 26  retweet_count               2262 non-null   float64            \n",
            "dtypes: datetime64[ns, UTC](1), float64(10), int64(3), object(13)\n",
            "memory usage: 498.3+ KB\n"
          ],
          "name": "stdout"
        }
      ]
    },
    {
      "cell_type": "markdown",
      "metadata": {
        "id": "bLzawjTxIZ7U"
      },
      "source": [
        "8. Not all tweets start with uppercase letters."
      ]
    },
    {
      "cell_type": "markdown",
      "metadata": {
        "id": "8Kx4K_d3Ic1I"
      },
      "source": [
        "**Define:**"
      ]
    },
    {
      "cell_type": "markdown",
      "metadata": {
        "id": "p8P9gQCrM25u"
      },
      "source": [
        "Convert lowercase letter to uppercase"
      ]
    },
    {
      "cell_type": "markdown",
      "metadata": {
        "id": "bCH7fJbXNFN2"
      },
      "source": [
        "**Code:**"
      ]
    },
    {
      "cell_type": "code",
      "metadata": {
        "id": "5bxg4i6OLaTD"
      },
      "source": [
        "C_Archive.p1=C_Archive.p1.str.title()\n",
        "C_Archive.p2=C_Archive.p2.str.title()\n",
        "C_Archive.p3=C_Archive.p3.str.title()\n"
      ],
      "execution_count": null,
      "outputs": []
    },
    {
      "cell_type": "markdown",
      "metadata": {
        "id": "sVjfjbMkNIWV"
      },
      "source": [
        "**Test:**"
      ]
    },
    {
      "cell_type": "code",
      "metadata": {
        "colab": {
          "base_uri": "https://localhost:8080/"
        },
        "id": "V8QoUJhbLz2q",
        "outputId": "a6dc56e9-e0c4-4027-f408-6ded3243cf17"
      },
      "source": [
        "C_Archive.p1.sample(10)"
      ],
      "execution_count": null,
      "outputs": [
        {
          "output_type": "execute_result",
          "data": {
            "text/plain": [
              "95             Laptop\n",
              "260         Chihuahua\n",
              "118               NaN\n",
              "382               NaN\n",
              "784               NaN\n",
              "19           Pembroke\n",
              "932    French Bulldog\n",
              "132               NaN\n",
              "506               NaN\n",
              "155     Arabian Camel\n",
              "Name: p1, dtype: object"
            ]
          },
          "metadata": {
            "tags": []
          },
          "execution_count": 181
        }
      ]
    },
    {
      "cell_type": "markdown",
      "metadata": {
        "id": "-rBVTmIgNX07"
      },
      "source": [
        "9. Tweet_id column has ids in int64 form which we don't need to have this type because there are no mathematical operations on it."
      ]
    },
    {
      "cell_type": "markdown",
      "metadata": {
        "id": "QHnkzzK_NZo_"
      },
      "source": [
        "**Define:**"
      ]
    },
    {
      "cell_type": "markdown",
      "metadata": {
        "id": "XZE74MqPNdpa"
      },
      "source": [
        "Convert tweet_id datatype to string"
      ]
    },
    {
      "cell_type": "markdown",
      "metadata": {
        "id": "8lXE5VeONpBV"
      },
      "source": [
        "**Code:**"
      ]
    },
    {
      "cell_type": "code",
      "metadata": {
        "id": "skGlGrH_NrqL"
      },
      "source": [
        "C_Archive.tweet_id=C_Archive.tweet_id.astype(str)"
      ],
      "execution_count": null,
      "outputs": []
    },
    {
      "cell_type": "markdown",
      "metadata": {
        "id": "NUTfR48qOPwP"
      },
      "source": [
        "**Test:**"
      ]
    },
    {
      "cell_type": "code",
      "metadata": {
        "colab": {
          "base_uri": "https://localhost:8080/"
        },
        "id": "ci-h9CfeOS47",
        "outputId": "5cbf99f8-6b42-46eb-b2ef-1fd1a1d286f7"
      },
      "source": [
        "C_Archive.tweet_id.head()"
      ],
      "execution_count": null,
      "outputs": [
        {
          "output_type": "execute_result",
          "data": {
            "text/plain": [
              "19     888202515573088257\n",
              "95     873697596434513921\n",
              "101    872668790621863937\n",
              "118    869988702071779329\n",
              "132    866816280283807744\n",
              "Name: tweet_id, dtype: object"
            ]
          },
          "metadata": {
            "tags": []
          },
          "execution_count": 183
        }
      ]
    },
    {
      "cell_type": "markdown",
      "metadata": {
        "id": "8KQ3a3a_O_qO"
      },
      "source": [
        "# 5. Store Data:"
      ]
    },
    {
      "cell_type": "code",
      "metadata": {
        "id": "kTgIfqI_PY8P"
      },
      "source": [
        "C_Archive.to_csv('Data_Cleaned.csv')"
      ],
      "execution_count": null,
      "outputs": []
    },
    {
      "cell_type": "markdown",
      "metadata": {
        "id": "KXL7_EZjPlRW"
      },
      "source": [
        "# 6. Data analysis & Visualization:"
      ]
    },
    {
      "cell_type": "markdown",
      "metadata": {
        "id": "VFSAl2ItQIIo"
      },
      "source": [
        "* What is the most common stage?\n"
      ]
    },
    {
      "cell_type": "code",
      "metadata": {
        "colab": {
          "base_uri": "https://localhost:8080/"
        },
        "id": "JM_erfLDQQEH",
        "outputId": "d0fb73ee-0485-43ad-ecd0-53c2934544e5"
      },
      "source": [
        "St= C_Archive.Stage.value_counts()\n",
        "St"
      ],
      "execution_count": null,
      "outputs": [
        {
          "output_type": "execute_result",
          "data": {
            "text/plain": [
              "pupper     265\n",
              "doggo       93\n",
              "puppo       37\n",
              "floofer      4\n",
              "Name: Stage, dtype: int64"
            ]
          },
          "metadata": {
            "tags": []
          },
          "execution_count": 195
        }
      ]
    },
    {
      "cell_type": "code",
      "metadata": {
        "colab": {
          "base_uri": "https://localhost:8080/"
        },
        "id": "NPFaORlnTNI_",
        "outputId": "b317d885-9bbf-4193-e2a3-db30b0fa1aec"
      },
      "source": [
        "C_Archive.groupby('Stage')['Stage'].count()"
      ],
      "execution_count": null,
      "outputs": [
        {
          "output_type": "execute_result",
          "data": {
            "text/plain": [
              "Stage\n",
              "doggo       93\n",
              "floofer      4\n",
              "pupper     265\n",
              "puppo       37\n",
              "Name: Stage, dtype: int64"
            ]
          },
          "metadata": {
            "tags": []
          },
          "execution_count": 197
        }
      ]
    },
    {
      "cell_type": "code",
      "metadata": {
        "colab": {
          "base_uri": "https://localhost:8080/",
          "height": 336
        },
        "id": "2oHe5PVdRrH0",
        "outputId": "8792293d-cff2-4004-886b-151323721e04"
      },
      "source": [
        "fig, ax = plt.subplots(figsize=(5,5))\n",
        "plt.title('Number of tweets by dog stage',fontsize=13)\n",
        "plt.ylabel('Stage')\n",
        "C_Archive['Stage'].value_counts(ascending=True).plot(kind=\"barh\",alpha=0.5);\n"
      ],
      "execution_count": null,
      "outputs": [
        {
          "output_type": "display_data",
          "data": {
            "image/png": "[encoded data removed]",
            "text/plain": [
              "<Figure size 360x360 with 1 Axes>"
            ]
          },
          "metadata": {
            "tags": [],
            "needs_background": "light"
          }
        }
      ]
    },
    {
      "cell_type": "markdown",
      "metadata": {
        "id": "0Q0lpJuFTspT"
      },
      "source": [
        "Pupper by far is the most common dog stage.\n"
      ]
    },
    {
      "cell_type": "code",
      "metadata": {
        "colab": {
          "base_uri": "https://localhost:8080/",
          "height": 281
        },
        "id": "IvrnDYr8W8-q",
        "outputId": "3fb7baa8-5bfc-4c40-db10-5dadb5ae88ae"
      },
      "source": [
        "# Plot the data partitioned by dog gender\n",
        "C_Archive[C_Archive['Stage'].notnull()]['Stage'].value_counts().plot(kind = 'pie', autopct='%1.1f%%')\n",
        "plt.title('Dog Gender Partitions')\n"
      ],
      "execution_count": null,
      "outputs": [
        {
          "output_type": "execute_result",
          "data": {
            "text/plain": [
              "Text(0.5, 1.0, 'Dog Gender Partitions')"
            ]
          },
          "metadata": {
            "tags": []
          },
          "execution_count": 207
        },
        {
          "output_type": "display_data",
          "data": {
            "image/png": "[encoded data removed]",
            "text/plain": [
              "<Figure size 432x288 with 1 Axes>"
            ]
          },
          "metadata": {
            "tags": []
          }
        }
      ]
    },
    {
      "cell_type": "markdown",
      "metadata": {
        "id": "vZ-aI9l0U04f"
      },
      "source": [
        "* Puppers still tie for the lowest median rating numerator. Note that several categories have less than 10 posts (doggo-pupper, floofer, and doggo-puppo). Among the more common categories, doggo and puppo, puppers still underperform.\n",
        "\n"
      ]
    },
    {
      "cell_type": "code",
      "metadata": {
        "colab": {
          "base_uri": "https://localhost:8080/",
          "height": 204
        },
        "id": "Ps8iyb1zXwP8",
        "outputId": "0c6c1a93-49d0-4b6e-cd44-30660e859fd1"
      },
      "source": [
        "# Which gender had high ratings\n",
        "C_Archive[['Stage', 'rating_numerator']][C_Archive.Stage.notnull()].groupby('Stage').mean()\n"
      ],
      "execution_count": null,
      "outputs": [
        {
          "output_type": "execute_result",
          "data": {
            "text/html": [
              "<div>\n",
              "<style scoped>\n",
              "    .dataframe tbody tr th:only-of-type {\n",
              "        vertical-align: middle;\n",
              "    }\n",
              "\n",
              "    .dataframe tbody tr th {\n",
              "        vertical-align: top;\n",
              "    }\n",
              "\n",
              "    .dataframe thead th {\n",
              "        text-align: right;\n",
              "    }\n",
              "</style>\n",
              "<table border=\"1\" class=\"dataframe\">\n",
              "  <thead>\n",
              "    <tr style=\"text-align: right;\">\n",
              "      <th></th>\n",
              "      <th>rating_numerator</th>\n",
              "    </tr>\n",
              "    <tr>\n",
              "      <th>Stage</th>\n",
              "      <th></th>\n",
              "    </tr>\n",
              "  </thead>\n",
              "  <tbody>\n",
              "    <tr>\n",
              "      <th>doggo</th>\n",
              "      <td>13.688172</td>\n",
              "    </tr>\n",
              "    <tr>\n",
              "      <th>floofer</th>\n",
              "      <td>12.250000</td>\n",
              "    </tr>\n",
              "    <tr>\n",
              "      <th>pupper</th>\n",
              "      <td>12.758491</td>\n",
              "    </tr>\n",
              "    <tr>\n",
              "      <th>puppo</th>\n",
              "      <td>12.108108</td>\n",
              "    </tr>\n",
              "  </tbody>\n",
              "</table>\n",
              "</div>"
            ],
            "text/plain": [
              "         rating_numerator\n",
              "Stage                    \n",
              "doggo           13.688172\n",
              "floofer         12.250000\n",
              "pupper          12.758491\n",
              "puppo           12.108108"
            ]
          },
          "metadata": {
            "tags": []
          },
          "execution_count": 209
        }
      ]
    },
    {
      "cell_type": "code",
      "metadata": {
        "colab": {
          "base_uri": "https://localhost:8080/",
          "height": 459
        },
        "id": "lHaeduuIU3Dn",
        "outputId": "8a449a61-5950-448d-b418-b56ab5727de8"
      },
      "source": [
        "import seaborn as sb\n",
        "fig, ax = plt.subplots(figsize=(7,7))\n",
        "plt.title('Distribution of ratings by dog stage',fontsize=13)\n",
        "ax = sb.violinplot(y='Stage',x='rating_numerator',data=C_Archive,palette='pastel',scale='count',inner=None,width=2.2)\n"
      ],
      "execution_count": null,
      "outputs": [
        {
          "output_type": "display_data",
          "data": {
            "image/png": "[encoded data removed]",
            "text/plain": [
              "<Figure size 504x504 with 1 Axes>"
            ]
          },
          "metadata": {
            "tags": [],
            "needs_background": "light"
          }
        }
      ]
    },
    {
      "cell_type": "markdown",
      "metadata": {
        "id": "rgWAXPADYdgg"
      },
      "source": [
        "Have the Ratings of WeRateDogs Been Consistent Through Time?\n",
        "\n"
      ]
    },
    {
      "cell_type": "markdown",
      "metadata": {
        "id": "7dX8UqspZMkI"
      },
      "source": [
        "Besides being a positive rating platform, what does their ratings trend look like? This question is important because, it is important to know when this positive rating was started. If there is consistency in their ratings throughout the years, then they could be deliberately making their ratings positive."
      ]
    },
    {
      "cell_type": "code",
      "metadata": {
        "id": "kv_943T0ZPCO"
      },
      "source": [
        "# Get the original master data\n",
        "twitter_archive_master = C_Archive\n",
        "\n",
        "# Get rows having rating numberator values between 6.5 and 16\n",
        "twitter_archive_master = twitter_archive_master[\n",
        "    (twitter_archive_master.rating_numerator < 16) & \n",
        "    (twitter_archive_master.rating_numerator > 6.5)]\n",
        "\n",
        "# Get ratings sorted by time\n",
        "time_vs_rating = C_Archive[\n",
        "    ['timestamp', 'rating_numerator']].sort_values(by='timestamp')\n",
        "\n",
        "# For ease of analysis, convert timestamp to date\n",
        "time_vs_rating.timestamp = time_vs_rating.timestamp\n",
        "\n",
        "# Group data on similar days togather.\n",
        "# Represent ratings of the day using their median \n",
        "time_vs_rating = time_vs_rating.groupby('timestamp').rating_numerator.median()\n",
        "\n",
        "# Compute 30 days moving average of ratings\n",
        "time_vs_rating = time_vs_rating.rolling(window=30).mean()\n",
        "time_vs_rating.name = ' Average every 30 Days'\n",
        "time_vs_rating.index = pd.to_datetime(time_vs_rating.index)\n"
      ],
      "execution_count": null,
      "outputs": []
    },
    {
      "cell_type": "code",
      "metadata": {
        "colab": {
          "base_uri": "https://localhost:8080/",
          "height": 376
        },
        "id": "SQFqeK-abHvJ",
        "outputId": "f7379186-ffc0-4505-fc72-d13224bf35cb"
      },
      "source": [
        "\n",
        "# Plot the time series data\n",
        "time_vs_rating.plot(figsize=(12,5))\n",
        "plt.legend(fontsize=14)\n",
        "plt.title('The Trend of Ratings Through Time', fontsize=14)\n",
        "plt.ylabel('Rating Numerator', fontsize=14)\n",
        "plt.xlabel('Time', fontsize=14)\n",
        "plt.yticks(fontsize=14)\n",
        "plt.xticks(fontsize=14)\n",
        "plt.savefig(fname='Ratings_through_time.png')\n",
        "plt.show();\n",
        "\n",
        "print('Dogs ratings are positively increasing with time .')\n"
      ],
      "execution_count": null,
      "outputs": [
        {
          "output_type": "display_data",
          "data": {
            "image/png": "[encoded data removed]",
            "text/plain": [
              "<Figure size 864x360 with 1 Axes>"
            ]
          },
          "metadata": {
            "tags": [],
            "needs_background": "light"
          }
        },
        {
          "output_type": "stream",
          "text": [
            "Dogs ratings are positively increasing with time .\n"
          ],
          "name": "stdout"
        }
      ]
    }
  ]
}